{
  "nbformat": 4,
  "nbformat_minor": 0,
  "metadata": {
    "colab": {
      "name": "Ch1_4_제어문(함수).ipynb",
      "provenance": []
    },
    "kernelspec": {
      "name": "python3",
      "display_name": "Python 3"
    },
    "language_info": {
      "name": "python"
    }
  },
  "cells": [
    {
      "cell_type": "markdown",
      "metadata": {
        "id": "ubEsSeDidgez"
      },
      "source": [
        "- Python 기본 문법\n",
        " - 함수\n",
        "   - 기본 함수\n",
        "   - 함수 안의 함수\n",
        "   - 함수 사용 팁\n"
      ]
    },
    {
      "cell_type": "markdown",
      "metadata": {
        "id": "bMUoiQVLdspy"
      },
      "source": [
        "수학의 함수\n",
        " - 함수의 연산으로 이루어진 결과는 무조건 하나\n",
        "\n",
        "프로그램의 함수\n",
        " - 함수의 연산으로 이루어진 결과는 하나, 혹은 여러개, 또는 없을 수도 있음"
      ]
    },
    {
      "cell_type": "markdown",
      "metadata": {
        "id": "lqi4gmKqeuC-"
      },
      "source": [
        "Exa.1 일차방정식의 근 \n",
        "\n",
        "ax + b = 0 을 만족하는 x는\n",
        "\n",
        "x = - (b/a)\n",
        "\n",
        "일차방정식의 근 정의,\n",
        "\n",
        "필요한 변수 : a, b\n",
        "\n",
        "출력되는 값 : x\n",
        "\n",
        "\n"
      ]
    },
    {
      "cell_type": "code",
      "metadata": {
        "id": "mEnz0rEJdLHo"
      },
      "source": [
        "def first_sol(a,b): #first_sol 는 그냥 함수이름\n",
        "  if a == 0:\n",
        "    return None\n",
        "  else:\n",
        "    return -b/a"
      ],
      "execution_count": null,
      "outputs": []
    },
    {
      "cell_type": "code",
      "metadata": {
        "colab": {
          "base_uri": "https://localhost:8080/"
        },
        "id": "QRJ3i7pTaYIR",
        "outputId": "a63245ee-c4de-4a4a-8a2e-b1a8a17fcb39"
      },
      "source": [
        "sol = first_sol(1,1)\n",
        "print(sol)"
      ],
      "execution_count": null,
      "outputs": [
        {
          "output_type": "stream",
          "name": "stdout",
          "text": [
            "-1.0\n"
          ]
        }
      ]
    },
    {
      "cell_type": "code",
      "metadata": {
        "colab": {
          "base_uri": "https://localhost:8080/"
        },
        "id": "yyZ4OpiOgzEq",
        "outputId": "ccaba81c-103b-4b4f-c580-4e9ca63899ca"
      },
      "source": [
        "print(first_sol(4,2))\n",
        "print(first_sol(1,0))\n",
        "print(first_sol(0,3))"
      ],
      "execution_count": null,
      "outputs": [
        {
          "output_type": "stream",
          "name": "stdout",
          "text": [
            "-0.5\n",
            "0.0\n",
            "None\n"
          ]
        }
      ]
    },
    {
      "cell_type": "markdown",
      "metadata": {
        "id": "tabEmahOdKSj"
      },
      "source": [
        "Exa.2 이차방정식 근의 공식\n",
        "\n",
        "$(ax^2 + bx + c = 0)$을 만족하는 x는 대충 근의 공식ㅋㅋ\n",
        "\n",
        "이차방젇식의 근\n",
        "\n",
        "입력변수 : $(a, b, c)$\n",
        "\n",
        "출력되는 값 : $x$"
      ]
    },
    {
      "cell_type": "code",
      "metadata": {
        "id": "o7i2OXOFiFhg"
      },
      "source": [
        "def secorder_sol(a,b,c):\n",
        "  checkpoint = b**2-4*a*c\n",
        "  if checkpoint > 0:\n",
        "    return (-b+checkpoint**0.5)/(2*a),(-b-checkpoint**0.5)/(2*a)\n",
        "  elif checkpoint == 0:\n",
        "    return (-b)/(2*a)\n",
        "  else:\n",
        "    print('근이 없습니다')\n",
        "    return None"
      ],
      "execution_count": null,
      "outputs": []
    },
    {
      "cell_type": "code",
      "metadata": {
        "colab": {
          "base_uri": "https://localhost:8080/"
        },
        "id": "TVextMXsjPvG",
        "outputId": "9167601e-be0f-4957-de38-00170d2e27ab"
      },
      "source": [
        "sol = secorder_sol(1,4,3)\n",
        "print(sol)"
      ],
      "execution_count": null,
      "outputs": [
        {
          "output_type": "stream",
          "name": "stdout",
          "text": [
            "(-1.0, -3.0)\n"
          ]
        }
      ]
    },
    {
      "cell_type": "code",
      "metadata": {
        "colab": {
          "base_uri": "https://localhost:8080/"
        },
        "id": "0S8kIISyjmsO",
        "outputId": "7c596423-eca8-44b5-8d26-3d64db46c723"
      },
      "source": [
        "print(secorder_sol(1,2,0))\n",
        "print(secorder_sol(1,2,1))\n",
        "print(secorder_sol(1,2,2))"
      ],
      "execution_count": null,
      "outputs": [
        {
          "output_type": "stream",
          "name": "stdout",
          "text": [
            "(0.0, -2.0)\n",
            "-1.0\n",
            "근이 없습니다\n",
            "None\n"
          ]
        }
      ]
    },
    {
      "cell_type": "code",
      "metadata": {
        "id": "T0-z0O1Fj-HC"
      },
      "source": [
        ""
      ],
      "execution_count": null,
      "outputs": []
    }
  ]
}