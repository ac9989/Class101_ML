{
  "nbformat": 4,
  "nbformat_minor": 0,
  "metadata": {
    "colab": {
      "name": "Ch1_3_제어문(조건, 반복).ipynb",
      "provenance": [],
      "collapsed_sections": []
    },
    "kernelspec": {
      "name": "python3",
      "display_name": "Python 3"
    },
    "language_info": {
      "name": "python"
    }
  },
  "cells": [
    {
      "cell_type": "markdown",
      "metadata": {
        "id": "TC22I5ocPgdq"
      },
      "source": [
        "Python 기본문법\n",
        "- 제어문\n",
        " - 조건문\n",
        " - 반복문\n",
        " "
      ]
    },
    {
      "cell_type": "code",
      "metadata": {
        "colab": {
          "base_uri": "https://localhost:8080/"
        },
        "id": "NDRGdozKk4BP",
        "outputId": "b79b9686-d0a3-487c-aab4-ae1e0f6399ac"
      },
      "source": [
        "# 조건문 if - else 구문\n",
        "score = 100\n",
        "if score == 100:\n",
        "  print('점수',score)\n",
        "  print('잘했어요!')\n",
        "else:\n",
        "   print('조금 더 해봅시다!') \n"
      ],
      "execution_count": null,
      "outputs": [
        {
          "output_type": "stream",
          "name": "stdout",
          "text": [
            "점수 100\n",
            "잘했어요!\n"
          ]
        }
      ]
    },
    {
      "cell_type": "code",
      "metadata": {
        "colab": {
          "base_uri": "https://localhost:8080/"
        },
        "id": "-bsMzNdAQyKe",
        "outputId": "de370abc-1cc0-4356-c205-3cfb56a9298e"
      },
      "source": [
        "score = 58\n",
        "if score >= 80:\n",
        "  print('점수',score)\n",
        "  print('A등급입니다!')\n",
        "elif score >= 60:\n",
        "  print('점수',score)\n",
        "  print('B등급입니다!')\n",
        "elif score >=40:\n",
        "  print('점수',score)\n",
        "  print('C등급입니다!')\n",
        "else:\n",
        "  print('열심히!')\n"
      ],
      "execution_count": null,
      "outputs": [
        {
          "output_type": "stream",
          "name": "stdout",
          "text": [
            "점수 58\n",
            "C등급입니다!\n"
          ]
        }
      ]
    },
    {
      "cell_type": "code",
      "metadata": {
        "colab": {
          "base_uri": "https://localhost:8080/"
        },
        "id": "M1nIkd8aR4a8",
        "outputId": "a16d4213-3993-4f3f-eb17-fdf80b0938bb"
      },
      "source": [
        "#철수와 영희\n",
        "#철수는 60점, 영희는 60점\n",
        "#둘 다 합격? 한명만 합격? 둘 다 낙제?\n",
        "Cs_score = 60\n",
        "Yh_score = 80\n",
        "\n",
        "if Cs_score >= 80 and Yh_score >= 80:\n",
        "  print('둘 다 합격!')\n",
        "elif Cs_score >= 80 or Yh_score >= 80:\n",
        "  print('한명만 합격!')\n",
        "else:\n",
        "  print('둘 다 불합격!')"
      ],
      "execution_count": null,
      "outputs": [
        {
          "output_type": "stream",
          "name": "stdout",
          "text": [
            "한명만 합격!\n"
          ]
        }
      ]
    },
    {
      "cell_type": "markdown",
      "metadata": {
        "id": "LkfLN8dzTdxY"
      },
      "source": [
        "반복문 for"
      ]
    },
    {
      "cell_type": "code",
      "metadata": {
        "colab": {
          "base_uri": "https://localhost:8080/"
        },
        "id": "eUgDSZrKTJSu",
        "outputId": "741bd878-2585-4303-cf04-90e4bab5175f"
      },
      "source": [
        "array1 = [10,20,30,40,50]\n",
        "for i in array1:\n",
        "  print(i)"
      ],
      "execution_count": null,
      "outputs": [
        {
          "output_type": "stream",
          "name": "stdout",
          "text": [
            "10\n",
            "20\n",
            "30\n",
            "40\n",
            "50\n"
          ]
        }
      ]
    },
    {
      "cell_type": "code",
      "metadata": {
        "colab": {
          "base_uri": "https://localhost:8080/"
        },
        "id": "fubLFPnJTuTr",
        "outputId": "d59a77fa-8039-42ed-dffa-b5caa6bbc958"
      },
      "source": [
        "for i in range (10): # range(10) == [0,1,2, ... ,8,9]\n",
        "  print(i)"
      ],
      "execution_count": null,
      "outputs": [
        {
          "output_type": "stream",
          "name": "stdout",
          "text": [
            "0\n",
            "1\n",
            "2\n",
            "3\n",
            "4\n",
            "5\n",
            "6\n",
            "7\n",
            "8\n",
            "9\n"
          ]
        }
      ]
    },
    {
      "cell_type": "code",
      "metadata": {
        "colab": {
          "base_uri": "https://localhost:8080/"
        },
        "id": "97p-ZaeKUF4S",
        "outputId": "33201cb8-feba-47ee-f876-94c4fe7e9584"
      },
      "source": [
        "for idx, ele in enumerate(array1):\n",
        "sqjr  print('{}번째, 원소 {}'.format(idx,ele))"
      ],
      "execution_count": null,
      "outputs": [
        {
          "output_type": "stream",
          "name": "stdout",
          "text": [
            "0번째, 원소 10\n",
            "1번째, 원소 20\n",
            "2번째, 원소 30\n",
            "3번째, 원소 40\n",
            "4번째, 원소 50\n"
          ]
        }
      ]
    },
    {
      "cell_type": "markdown",
      "metadata": {
        "id": "Vi2zS-WRVbp1"
      },
      "source": [
        "반복문 while => 반복조건문"
      ]
    },
    {
      "cell_type": "code",
      "metadata": {
        "colab": {
          "base_uri": "https://localhost:8080/"
        },
        "id": "PSEIO_XMUoyq",
        "outputId": "11367fad-038b-4a7a-c7a0-bda79a3f379f"
      },
      "source": [
        "i = 0\n",
        "while i <10:\n",
        "  i += 1\n",
        "  print(i,'출력합니다')"
      ],
      "execution_count": null,
      "outputs": [
        {
          "output_type": "stream",
          "name": "stdout",
          "text": [
            "1 출력합니다\n",
            "2 출력합니다\n",
            "3 출력합니다\n",
            "4 출력합니다\n",
            "5 출력합니다\n",
            "6 출력합니다\n",
            "7 출력합니다\n",
            "8 출력합니다\n",
            "9 출력합니다\n",
            "10 출력합니다\n"
          ]
        }
      ]
    },
    {
      "cell_type": "code",
      "metadata": {
        "id": "GD5M5UruVwOP"
      },
      "source": [
        "i = 0\n",
        "while i >= 10:\n",
        "  i += 1 # 무한루프 => 강제중단 ctrl+c"
      ],
      "execution_count": null,
      "outputs": []
    },
    {
      "cell_type": "code",
      "metadata": {
        "id": "93WOYLF5WHqG"
      },
      "source": [
        ""
      ],
      "execution_count": null,
      "outputs": []
    }
  ]
}