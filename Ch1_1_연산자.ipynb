{
  "nbformat": 4,
  "nbformat_minor": 0,
  "metadata": {
    "colab": {
      "name": "Ch1_1_연산자.ipynb",
      "provenance": [],
      "collapsed_sections": []
    },
    "kernelspec": {
      "name": "python3",
      "display_name": "Python 3"
    },
    "language_info": {
      "name": "python"
    }
  },
  "cells": [
    {
      "cell_type": "markdown",
      "metadata": {
        "id": "9Spf2F2QEnPj"
      },
      "source": [
        "## 연산자\n",
        "\n",
        "- 파이썬 계산 사칙연산"
      ]
    },
    {
      "cell_type": "markdown",
      "metadata": {
        "id": "AeA5jSC2E2J-"
      },
      "source": [
        "- 사칙연산자"
      ]
    },
    {
      "cell_type": "code",
      "metadata": {
        "id": "l-izK2kEEunS"
      },
      "source": [
        "a = 1395-875  ##a를 1395-875 로 정의함"
      ],
      "execution_count": null,
      "outputs": []
    },
    {
      "cell_type": "code",
      "metadata": {
        "colab": {
          "base_uri": "https://localhost:8080/"
        },
        "id": "pffKy1PyFf54",
        "outputId": "a9746734-b25b-401f-eaf0-bf78055febfc"
      },
      "source": [
        "print(a)"
      ],
      "execution_count": null,
      "outputs": [
        {
          "output_type": "stream",
          "name": "stdout",
          "text": [
            "520\n"
          ]
        }
      ]
    },
    {
      "cell_type": "code",
      "metadata": {
        "id": "ZOeoaGvdFj7i"
      },
      "source": [
        "a0 = 2*8"
      ],
      "execution_count": null,
      "outputs": []
    },
    {
      "cell_type": "code",
      "metadata": {
        "id": "HeoCHXklFoJd"
      },
      "source": [
        "a1 = 4/5"
      ],
      "execution_count": null,
      "outputs": []
    },
    {
      "cell_type": "code",
      "metadata": {
        "colab": {
          "base_uri": "https://localhost:8080/"
        },
        "id": "0f9QlSrZFySR",
        "outputId": "dd45ecdb-db38-473b-ac94-a9a1d51ce037"
      },
      "source": [
        "print(a0)\n",
        "print(a1)"
      ],
      "execution_count": null,
      "outputs": [
        {
          "output_type": "stream",
          "name": "stdout",
          "text": [
            "16\n",
            "0.8\n"
          ]
        }
      ]
    },
    {
      "cell_type": "code",
      "metadata": {
        "colab": {
          "base_uri": "https://localhost:8080/"
        },
        "id": "A90CsabKGDFF",
        "outputId": "dedd4764-bfd1-4afd-9366-12eade216889"
      },
      "source": [
        "a_q = 7//3 #7을 3으로 나눈 몫\n",
        "a_r = 7%3 # 나머지\n",
        "print(a_q)\n",
        "print(a_r)"
      ],
      "execution_count": null,
      "outputs": [
        {
          "output_type": "stream",
          "name": "stdout",
          "text": [
            "2\n",
            "1\n"
          ]
        }
      ]
    },
    {
      "cell_type": "code",
      "metadata": {
        "colab": {
          "base_uri": "https://localhost:8080/"
        },
        "id": "aLb7i3HuGoDP",
        "outputId": "2e72bc93-59a5-4762-e18d-aeb9af0787e0"
      },
      "source": [
        "#거듭제곱\n",
        "a = 2**3\n",
        "print(a)"
      ],
      "execution_count": null,
      "outputs": [
        {
          "output_type": "stream",
          "name": "stdout",
          "text": [
            "8\n"
          ]
        }
      ]
    },
    {
      "cell_type": "markdown",
      "metadata": {
        "id": "ODFEqVZjHF8d"
      },
      "source": [
        "- 할당연산자 \n",
        " - +=, -=, *=, /= //= %="
      ]
    },
    {
      "cell_type": "code",
      "metadata": {
        "colab": {
          "base_uri": "https://localhost:8080/"
        },
        "id": "Awxu529kGzO6",
        "outputId": "48f41396-c20e-40e7-c86d-713a972e307b"
      },
      "source": [
        "a = 5\n",
        "print(a)"
      ],
      "execution_count": null,
      "outputs": [
        {
          "output_type": "stream",
          "name": "stdout",
          "text": [
            "5\n"
          ]
        }
      ]
    },
    {
      "cell_type": "code",
      "metadata": {
        "colab": {
          "base_uri": "https://localhost:8080/"
        },
        "id": "2ud6ONv9HNPv",
        "outputId": "9f4b601d-ee35-492c-d11e-1facee0f93ea"
      },
      "source": [
        "a = a+1\n",
        "print(a)"
      ],
      "execution_count": null,
      "outputs": [
        {
          "output_type": "stream",
          "name": "stdout",
          "text": [
            "6\n"
          ]
        }
      ]
    },
    {
      "cell_type": "code",
      "metadata": {
        "colab": {
          "base_uri": "https://localhost:8080/"
        },
        "id": "i1H9GHUtHRCh",
        "outputId": "853197e7-5c0f-4f63-c64b-95e2039696ee"
      },
      "source": [
        "a += 1\n",
        "print(a)"
      ],
      "execution_count": null,
      "outputs": [
        {
          "output_type": "stream",
          "name": "stdout",
          "text": [
            "7\n"
          ]
        }
      ]
    },
    {
      "cell_type": "code",
      "metadata": {
        "colab": {
          "base_uri": "https://localhost:8080/"
        },
        "id": "hka0iU7IHjqH",
        "outputId": "430e4cc2-3a8c-4336-88e2-d1278d81b330"
      },
      "source": [
        "a -= 1\n",
        "a *= 5\n",
        "print(a)"
      ],
      "execution_count": null,
      "outputs": [
        {
          "output_type": "stream",
          "name": "stdout",
          "text": [
            "30\n"
          ]
        }
      ]
    },
    {
      "cell_type": "code",
      "metadata": {
        "colab": {
          "base_uri": "https://localhost:8080/"
        },
        "id": "ShJ-kvLmHxJ-",
        "outputId": "65c0fa96-465e-4566-ee00-fc5896bd2b92"
      },
      "source": [
        "a //= 2\n",
        "print(a)"
      ],
      "execution_count": null,
      "outputs": [
        {
          "output_type": "stream",
          "name": "stdout",
          "text": [
            "15\n"
          ]
        }
      ]
    },
    {
      "cell_type": "markdown",
      "metadata": {
        "id": "-Jvkb0IsH_9w"
      },
      "source": [
        "-  비교연산자 => 참,거짓판별 \n",
        " - ==, !=, <, > <=, >="
      ]
    },
    {
      "cell_type": "code",
      "metadata": {
        "colab": {
          "base_uri": "https://localhost:8080/"
        },
        "id": "202yiq81H3Gc",
        "outputId": "d3849440-3a85-4425-dcb2-2c8ec58b4f7d"
      },
      "source": [
        "1 ==1 #1과 1이 같다  =="
      ],
      "execution_count": null,
      "outputs": [
        {
          "output_type": "execute_result",
          "data": {
            "text/plain": [
              "True"
            ]
          },
          "metadata": {},
          "execution_count": 16
        }
      ]
    },
    {
      "cell_type": "code",
      "metadata": {
        "colab": {
          "base_uri": "https://localhost:8080/"
        },
        "id": "t221cWZmIJx9",
        "outputId": "5272c83c-1f7d-47bd-a070-1acb7833a311"
      },
      "source": [
        "1 != 1 #1과 1이 같지않다.  !="
      ],
      "execution_count": null,
      "outputs": [
        {
          "output_type": "execute_result",
          "data": {
            "text/plain": [
              "False"
            ]
          },
          "metadata": {},
          "execution_count": 17
        }
      ]
    },
    {
      "cell_type": "code",
      "metadata": {
        "colab": {
          "base_uri": "https://localhost:8080/"
        },
        "id": "KTf8iphnIPZt",
        "outputId": "e13964b6-abfc-4e1a-c25c-65a178b8395b"
      },
      "source": [
        "3 > 2"
      ],
      "execution_count": null,
      "outputs": [
        {
          "output_type": "execute_result",
          "data": {
            "text/plain": [
              "True"
            ]
          },
          "metadata": {},
          "execution_count": 18
        }
      ]
    },
    {
      "cell_type": "code",
      "metadata": {
        "colab": {
          "base_uri": "https://localhost:8080/"
        },
        "id": "jGmo35LUIZn_",
        "outputId": "9b90fd86-0e50-4926-fae9-0c302eec2fd2"
      },
      "source": [
        "3 >= 2"
      ],
      "execution_count": null,
      "outputs": [
        {
          "output_type": "execute_result",
          "data": {
            "text/plain": [
              "True"
            ]
          },
          "metadata": {},
          "execution_count": 19
        }
      ]
    },
    {
      "cell_type": "code",
      "metadata": {
        "colab": {
          "base_uri": "https://localhost:8080/"
        },
        "id": "Ga6sDQJCIgXq",
        "outputId": "8d8aa652-ec1e-4228-8d10-70a895167752"
      },
      "source": [
        "a= 1==1\n",
        "print(a)"
      ],
      "execution_count": null,
      "outputs": [
        {
          "output_type": "stream",
          "name": "stdout",
          "text": [
            "True\n"
          ]
        }
      ]
    },
    {
      "cell_type": "code",
      "metadata": {
        "id": "9vRCeU4fIw0k",
        "colab": {
          "base_uri": "https://localhost:8080/"
        },
        "outputId": "fc888714-f04f-4c17-a84b-1fa84ff25ddd"
      },
      "source": [
        "#과제\n",
        "a_root = 2 ** 0.5\n",
        "print(a_root)"
      ],
      "execution_count": null,
      "outputs": [
        {
          "output_type": "stream",
          "name": "stdout",
          "text": [
            "1.4142135623730951\n"
          ]
        }
      ]
    },
    {
      "cell_type": "code",
      "metadata": {
        "id": "fw3XTkeHKs2q"
      },
      "source": [
        ""
      ],
      "execution_count": null,
      "outputs": []
    }
  ]
}