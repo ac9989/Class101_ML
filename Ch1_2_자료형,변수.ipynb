{
  "nbformat": 4,
  "nbformat_minor": 0,
  "metadata": {
    "colab": {
      "name": "Ch1_2_자료형,변수.ipynb",
      "provenance": [],
      "collapsed_sections": []
    },
    "kernelspec": {
      "name": "python3",
      "display_name": "Python 3"
    },
    "language_info": {
      "name": "python"
    }
  },
  "cells": [
    {
      "cell_type": "markdown",
      "metadata": {
        "id": "E791hnCMeGlk"
      },
      "source": [
        "- 변수 : 컴퓨터가 저장해놓은 기억\n",
        " - 변수는 알파벳으로 시작함\n",
        " - 파이썬 변수는 대,소문자를 구분함"
      ]
    },
    {
      "cell_type": "markdown",
      "metadata": {
        "id": "lFlT7uZleMhR"
      },
      "source": [
        "- 정수형, 실수형"
      ]
    },
    {
      "cell_type": "code",
      "metadata": {
        "colab": {
          "base_uri": "https://localhost:8080/"
        },
        "id": "OOmNKXEdeGQx",
        "outputId": "f51954c6-ada0-4724-8c65-0ea4492cdb5b"
      },
      "source": [
        "# 변수 정의\n",
        "# 정수형\n",
        "a = 32 \n",
        "type(a) # integer"
      ],
      "execution_count": null,
      "outputs": [
        {
          "output_type": "execute_result",
          "data": {
            "text/plain": [
              "int"
            ]
          },
          "metadata": {},
          "execution_count": 2
        }
      ]
    },
    {
      "cell_type": "code",
      "metadata": {
        "colab": {
          "base_uri": "https://localhost:8080/"
        },
        "id": "Itw3YA61eD2C",
        "outputId": "5771b11f-0e32-4f25-dc1b-87722e69bcf0"
      },
      "source": [
        "# 실수형자료\n",
        "a_1 = 1.1\n",
        "type(a_1) # float"
      ],
      "execution_count": null,
      "outputs": [
        {
          "output_type": "execute_result",
          "data": {
            "text/plain": [
              "float"
            ]
          },
          "metadata": {},
          "execution_count": 3
        }
      ]
    },
    {
      "cell_type": "code",
      "metadata": {
        "colab": {
          "base_uri": "https://localhost:8080/"
        },
        "id": "vqvTtz-tez1m",
        "outputId": "f47196e7-f5bc-48da-da92-70f114a1b93b"
      },
      "source": [
        "a_new = int(a_1) # 1.1을 억지로 integer로 바꿈 = 정수부분\n",
        "print(a_new)\n",
        "a_new2 = float(a_new )#\n",
        "print(a_new2)\n",
        "print(int(1.8))"
      ],
      "execution_count": null,
      "outputs": [
        {
          "output_type": "stream",
          "name": "stdout",
          "text": [
            "1\n",
            "1.0\n",
            "1\n"
          ]
        }
      ]
    },
    {
      "cell_type": "markdown",
      "metadata": {
        "id": "vYBftXmtfcdz"
      },
      "source": [
        "- 논리형"
      ]
    },
    {
      "cell_type": "code",
      "metadata": {
        "colab": {
          "base_uri": "https://localhost:8080/"
        },
        "id": "LY4fCZ8nfRv7",
        "outputId": "0b1cf0fc-ce6d-4c51-b82a-1028c6f5f73c"
      },
      "source": [
        "a = True\n",
        "type(a)"
      ],
      "execution_count": null,
      "outputs": [
        {
          "output_type": "execute_result",
          "data": {
            "text/plain": [
              "bool"
            ]
          },
          "metadata": {},
          "execution_count": 6
        }
      ]
    },
    {
      "cell_type": "code",
      "metadata": {
        "colab": {
          "base_uri": "https://localhost:8080/"
        },
        "id": "Mcn200QHfpkv",
        "outputId": "867f4c54-c4d4-4213-b3b9-74dac0d7ffe5"
      },
      "source": [
        "b = False\n",
        "type(b)"
      ],
      "execution_count": null,
      "outputs": [
        {
          "output_type": "execute_result",
          "data": {
            "text/plain": [
              "bool"
            ]
          },
          "metadata": {},
          "execution_count": 7
        }
      ]
    },
    {
      "cell_type": "code",
      "metadata": {
        "colab": {
          "base_uri": "https://localhost:8080/"
        },
        "id": "GRlt44fAftVt",
        "outputId": "8314515b-cdf9-4849-f0d2-b6c93b889e4f"
      },
      "source": [
        "a_t = 1\n",
        "a_f = 0\n",
        "print(a_t == a)  # 1 = True\n",
        "print(a_t == b)  \n",
        "print(a_f == a)  # 0 = False\n",
        "print(a_f == b)"
      ],
      "execution_count": null,
      "outputs": [
        {
          "output_type": "stream",
          "name": "stdout",
          "text": [
            "True\n",
            "False\n",
            "False\n",
            "True\n"
          ]
        }
      ]
    },
    {
      "cell_type": "markdown",
      "metadata": {
        "id": "3MDoRFZJgWfu"
      },
      "source": [
        "- 문자형(string)"
      ]
    },
    {
      "cell_type": "code",
      "metadata": {
        "colab": {
          "base_uri": "https://localhost:8080/"
        },
        "id": "H77Sb0ZVgDEI",
        "outputId": "c499766a-0e61-440d-8468-337f36e0a99f"
      },
      "source": [
        "a='Hello world!'\n",
        "type(a) # string"
      ],
      "execution_count": null,
      "outputs": [
        {
          "output_type": "execute_result",
          "data": {
            "text/plain": [
              "str"
            ]
          },
          "metadata": {},
          "execution_count": 11
        }
      ]
    },
    {
      "cell_type": "code",
      "metadata": {
        "colab": {
          "base_uri": "https://localhost:8080/"
        },
        "id": "lCsZMpchgoF3",
        "outputId": "8ffd7038-5abf-4ee6-e88b-40a11e2c9cf1"
      },
      "source": [
        "print(a)"
      ],
      "execution_count": null,
      "outputs": [
        {
          "output_type": "stream",
          "name": "stdout",
          "text": [
            "Hello world!\n"
          ]
        }
      ]
    },
    {
      "cell_type": "code",
      "metadata": {
        "colab": {
          "base_uri": "https://localhost:8080/"
        },
        "id": "pd3g_FDqgt90",
        "outputId": "f4d2e869-d6ee-4f47-a4ae-21638c3c06c3"
      },
      "source": [
        "#문자형은 같은 문자형끼리 덧셈연산이 가능\n",
        "a += ' Classmate!'\n",
        "print(a)"
      ],
      "execution_count": null,
      "outputs": [
        {
          "output_type": "stream",
          "name": "stdout",
          "text": [
            "Hello world!Classmate! Classmate!\n"
          ]
        }
      ]
    },
    {
      "cell_type": "code",
      "metadata": {
        "colab": {
          "base_uri": "https://localhost:8080/"
        },
        "id": "Em6EVVAbhBZA",
        "outputId": "f5ac5dd2-79c7-4f20-b025-4c6c8b5c0737"
      },
      "source": [
        "a += '1'\n",
        "print(a)"
      ],
      "execution_count": null,
      "outputs": [
        {
          "output_type": "stream",
          "name": "stdout",
          "text": [
            "Hello world!Classmate! Classmate!11\n"
          ]
        }
      ]
    },
    {
      "cell_type": "code",
      "metadata": {
        "colab": {
          "base_uri": "https://localhost:8080/"
        },
        "id": "HHdLf5MahRHz",
        "outputId": "299e565e-12d9-4035-c018-d64aec83532c"
      },
      "source": [
        "a_new = 1\n",
        "a += str(a_new)\n",
        "print(a)"
      ],
      "execution_count": null,
      "outputs": [
        {
          "output_type": "stream",
          "name": "stdout",
          "text": [
            "Hello world!Classmate! Classmate!111\n"
          ]
        }
      ]
    },
    {
      "cell_type": "markdown",
      "metadata": {
        "id": "G0JrPMKyhhOY"
      },
      "source": [
        "- 집합 자료형\n",
        "\n",
        " 1.리스트 (=집합)\n",
        "\n",
        " 2.딕셔너리 (=함수)"
      ]
    },
    {
      "cell_type": "code",
      "metadata": {
        "colab": {
          "base_uri": "https://localhost:8080/"
        },
        "id": "dRrTfcqahfJ3",
        "outputId": "b51a9bc0-bad9-4c3a-9f10-e06ed3d01961"
      },
      "source": [
        "#1 리스트\n",
        "a=[]\n",
        "type(a)"
      ],
      "execution_count": null,
      "outputs": [
        {
          "output_type": "execute_result",
          "data": {
            "text/plain": [
              "list"
            ]
          },
          "metadata": {},
          "execution_count": 20
        }
      ]
    },
    {
      "cell_type": "code",
      "metadata": {
        "id": "QMpFHPPehwz7"
      },
      "source": [
        "a.append(1)\n",
        "a.append('2')"
      ],
      "execution_count": null,
      "outputs": []
    },
    {
      "cell_type": "code",
      "metadata": {
        "colab": {
          "base_uri": "https://localhost:8080/"
        },
        "id": "hOnYGi2NiFJC",
        "outputId": "ca8bddad-1d0d-4b3d-8eb6-5306a2a615d0"
      },
      "source": [
        "print(a)\n",
        "print(len(a))"
      ],
      "execution_count": null,
      "outputs": [
        {
          "output_type": "stream",
          "name": "stdout",
          "text": [
            "[1, '2']\n",
            "2\n"
          ]
        }
      ]
    },
    {
      "cell_type": "code",
      "metadata": {
        "colab": {
          "base_uri": "https://localhost:8080/"
        },
        "id": "JWsHDAChiN7Z",
        "outputId": "cbdc6776-c7b0-4dd2-95ab-c52efe8e26ec"
      },
      "source": [
        "print(a[0])\n",
        "print(a[1])"
      ],
      "execution_count": null,
      "outputs": [
        {
          "output_type": "stream",
          "name": "stdout",
          "text": [
            "1\n",
            "2\n"
          ]
        }
      ]
    },
    {
      "cell_type": "code",
      "metadata": {
        "colab": {
          "base_uri": "https://localhost:8080/"
        },
        "id": "hqJnpSmpikgu",
        "outputId": "6f0d76ee-065f-4cec-892c-ce8c6feb8b9f"
      },
      "source": [
        "#2 딕셔너리\n",
        "a = {}\n",
        "type(a)"
      ],
      "execution_count": null,
      "outputs": [
        {
          "output_type": "execute_result",
          "data": {
            "text/plain": [
              "dict"
            ]
          },
          "metadata": {},
          "execution_count": 25
        }
      ]
    },
    {
      "cell_type": "code",
      "metadata": {
        "colab": {
          "base_uri": "https://localhost:8080/"
        },
        "id": "nTThuu_DjDcy",
        "outputId": "6786e970-9358-4f3b-b458-acd358ed2e8c"
      },
      "source": [
        "# 열쇠와 자물쇠간의 관계 : 함수관계\n",
        "a['1'] = 0\n",
        "a[0] = 'Hello'\n",
        "print(a)"
      ],
      "execution_count": null,
      "outputs": [
        {
          "output_type": "stream",
          "name": "stdout",
          "text": [
            "{'1': 0, 0: 'Hello'}\n"
          ]
        }
      ]
    },
    {
      "cell_type": "code",
      "metadata": {
        "colab": {
          "base_uri": "https://localhost:8080/"
        },
        "id": "j-90R13CjklS",
        "outputId": "b863d01b-fc2e-4fca-96a2-c390b426b76b"
      },
      "source": [
        "print(a.keys()) # : 정의역\n",
        "print(a.values()) # : 치역"
      ],
      "execution_count": null,
      "outputs": [
        {
          "output_type": "stream",
          "name": "stdout",
          "text": [
            "dict_keys(['1', 0])\n",
            "dict_values([0, 'Hello'])\n"
          ]
        }
      ]
    },
    {
      "cell_type": "code",
      "metadata": {
        "colab": {
          "base_uri": "https://localhost:8080/"
        },
        "id": "cY2PuVlpj1M8",
        "outputId": "47c978ad-2d15-4978-e1f8-3a85c9611547"
      },
      "source": [
        "a.items() # : 순서쌍"
      ],
      "execution_count": null,
      "outputs": [
        {
          "output_type": "execute_result",
          "data": {
            "text/plain": [
              "dict_items([('1', 0), (0, 'Hello')])"
            ]
          },
          "metadata": {},
          "execution_count": 30
        }
      ]
    },
    {
      "cell_type": "code",
      "metadata": {
        "colab": {
          "base_uri": "https://localhost:8080/"
        },
        "id": "Sh_Ntv-Uj96K",
        "outputId": "748915ba-9883-44b7-be3b-b838f9f2eaba"
      },
      "source": [
        "print(a[0])"
      ],
      "execution_count": null,
      "outputs": [
        {
          "output_type": "stream",
          "name": "stdout",
          "text": [
            "Hello\n"
          ]
        }
      ]
    },
    {
      "cell_type": "markdown",
      "metadata": {
        "id": "dd9YRE16kRZH"
      },
      "source": [
        "- 변수제거\n",
        " - 때론 컴퓨터가 너무 많은 변수를 기억해서 힘들어함\n",
        " - => del'변수명'"
      ]
    },
    {
      "cell_type": "code",
      "metadata": {
        "colab": {
          "base_uri": "https://localhost:8080/",
          "height": 186
        },
        "id": "8sZV0EnFkQlK",
        "outputId": "bfd4eae1-db2b-49e3-fcdf-015e2c1d5010"
      },
      "source": [
        "del a\n",
        "print(a)"
      ],
      "execution_count": null,
      "outputs": [
        {
          "output_type": "error",
          "ename": "NameError",
          "evalue": "ignored",
          "traceback": [
            "\u001b[0;31m---------------------------------------------------------------------------\u001b[0m",
            "\u001b[0;31mNameError\u001b[0m                                 Traceback (most recent call last)",
            "\u001b[0;32m<ipython-input-33-c342333e421e>\u001b[0m in \u001b[0;36m<module>\u001b[0;34m()\u001b[0m\n\u001b[0;32m----> 1\u001b[0;31m \u001b[0;32mdel\u001b[0m \u001b[0ma\u001b[0m\u001b[0;34m\u001b[0m\u001b[0;34m\u001b[0m\u001b[0m\n\u001b[0m\u001b[1;32m      2\u001b[0m \u001b[0mprint\u001b[0m\u001b[0;34m(\u001b[0m\u001b[0ma\u001b[0m\u001b[0;34m)\u001b[0m\u001b[0;34m\u001b[0m\u001b[0;34m\u001b[0m\u001b[0m\n",
            "\u001b[0;31mNameError\u001b[0m: name 'a' is not defined"
          ]
        }
      ]
    },
    {
      "cell_type": "code",
      "metadata": {
        "id": "fydDNidAkjCh"
      },
      "source": [
        ""
      ],
      "execution_count": null,
      "outputs": []
    }
  ]
}