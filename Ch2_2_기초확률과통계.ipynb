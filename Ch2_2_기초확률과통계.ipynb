{
  "nbformat": 4,
  "nbformat_minor": 0,
  "metadata": {
    "colab": {
      "name": "Ch2_2_기초확률과통계.ipynb",
      "provenance": []
    },
    "kernelspec": {
      "name": "python3",
      "display_name": "Python 3"
    },
    "language_info": {
      "name": "python"
    }
  },
  "cells": [
    {
      "cell_type": "markdown",
      "metadata": {
        "id": "k2uPEiZrlsjr"
      },
      "source": [
        "#Basic probability and statistics\n",
        " -기초 확률\n",
        "  - 사건, 랜덤변수\n",
        "  - 확률간의 거리"
      ]
    },
    {
      "cell_type": "code",
      "metadata": {
        "id": "S5ims1TDmAPT"
      },
      "source": [
        "import numpy as np"
      ],
      "execution_count": null,
      "outputs": []
    },
    {
      "cell_type": "code",
      "metadata": {
        "colab": {
          "base_uri": "https://localhost:8080/"
        },
        "id": "9iFNk7pRmeUj",
        "outputId": "f4f4960a-c93e-46c2-baa2-2d020c8b7f94"
      },
      "source": [
        "#주사위 던지기 (1~6)\n",
        "dice1 = np.ones(6) #크기가 6이고 모든 원소가 1인 벡터 생성\n",
        "dice1 /= np.sum(6)\n",
        "print(dice1)"
      ],
      "execution_count": null,
      "outputs": [
        {
          "output_type": "stream",
          "name": "stdout",
          "text": [
            "[0.16666667 0.16666667 0.16666667 0.16666667 0.16666667 0.16666667]\n"
          ]
        }
      ]
    },
    {
      "cell_type": "code",
      "metadata": {
        "id": "mXOETeD8m-7Q"
      },
      "source": [
        "#찌그러진 주사위\n",
        "dice2 = np.array([0.1,0.2,0.1,0.05,0.25,0.3])"
      ],
      "execution_count": null,
      "outputs": []
    },
    {
      "cell_type": "markdown",
      "metadata": {
        "id": "6LBMBDPvnxLL"
      },
      "source": [
        "- 평범한 주사위와 찌그러진 주사위의 확률비교\n",
        " - Kullback-Leibler divergence\n",
        "\n",
        "  $\\int\\ P(x)log \\frac{P(x)}{Q(x)}\\  dx$"
      ]
    },
    {
      "cell_type": "code",
      "metadata": {
        "id": "hZ4VhTxPnNIa"
      },
      "source": [
        "def kl_div(dist1,dist2):\n",
        "  return np.sum(dist1*np.log(dist1/dist2))\n",
        " "
      ],
      "execution_count": null,
      "outputs": []
    },
    {
      "cell_type": "code",
      "metadata": {
        "colab": {
          "base_uri": "https://localhost:8080/"
        },
        "id": "tWpg7a5p6yhV",
        "outputId": "d8636647-93f6-4244-baa0-3d9b54df6cf0"
      },
      "source": [
        "print(kl_div(dice1,dice1))\n",
        "print(kl_div(dice2,dice2))\n",
        "\n",
        "print('확률론적인 관점으로 본 두 주사위의 차이')\n",
        "print(kl_div(dice1,dice2))\n"
      ],
      "execution_count": null,
      "outputs": [
        {
          "output_type": "stream",
          "name": "stdout",
          "text": [
            "0.0\n",
            "0.0\n",
            "확률론적인 관점으로 본 두 주사위의 차이\n",
            "0.17500845367561313\n"
          ]
        }
      ]
    },
    {
      "cell_type": "markdown",
      "metadata": {
        "id": "NPJZM8s17xot"
      },
      "source": [
        "- 통계"
      ]
    },
    {
      "cell_type": "code",
      "metadata": {
        "colab": {
          "base_uri": "https://localhost:8080/"
        },
        "id": "rNtDZ3Uj7O4l",
        "outputId": "5975b634-04bd-480f-a21d-18b6fed77ae2"
      },
      "source": [
        "#기댓값 => 주사위를 던지면 어떤 값? \n",
        "exp = 0\n",
        "for idx,i in enumerate(dice1):\n",
        "  exp += (idx+1)*i\n",
        "print('평범한 주사위 기댓값', exp)\n",
        "\n",
        "exp = 0\n",
        "for idx,i in enumerate(dice2):\n",
        "  exp += (idx+1)*i\n",
        "print('찌그러진 주사위 기댓값', exp)\n",
        "\n"
      ],
      "execution_count": null,
      "outputs": [
        {
          "output_type": "stream",
          "name": "stdout",
          "text": [
            "평범한 주사위 기댓값 3.5\n",
            "찌그러진 주사위 기댓값 4.05\n"
          ]
        }
      ]
    },
    {
      "cell_type": "code",
      "metadata": {
        "colab": {
          "base_uri": "https://localhost:8080/"
        },
        "id": "Rop9U6-Q80iE",
        "outputId": "35c06513-db9c-4e16-fec4-23d78dfc7869"
      },
      "source": [
        "# 통계량 분석 -- 평균,분산,표준편차\n",
        "print('평균',np.mean(dice1),np.mean(dice2))\n",
        "print('분산',np.var(dice1),np.var(dice2))\n",
        "print('표준편차',np.std(dice1),np.std(dice2))"
      ],
      "execution_count": null,
      "outputs": [
        {
          "output_type": "stream",
          "name": "stdout",
          "text": [
            "평균 0.16666666666666666 0.16666666666666666\n",
            "분산 0.0 0.008055555555555554\n",
            "표준편차 0.0 0.08975274678557506\n"
          ]
        }
      ]
    },
    {
      "cell_type": "code",
      "metadata": {
        "colab": {
          "base_uri": "https://localhost:8080/",
          "height": 282
        },
        "id": "mTnGSZgD9xp_",
        "outputId": "ed0a9a05-dcb3-44e7-e5e6-5493678a7743"
      },
      "source": [
        "# 분포 그림 그려보기\n",
        "import matplotlib.pyplot as plt\n",
        "%matplotlib inline\n",
        "plt.hist(dice1,label='Normal')\n",
        "plt.hist(dice2,label='AbNormal')\n",
        "plt.grid()\n",
        "plt.legend() # label에 저장된 string 호출"
      ],
      "execution_count": null,
      "outputs": [
        {
          "output_type": "execute_result",
          "data": {
            "text/plain": [
              "<matplotlib.legend.Legend at 0x7f928c74c3d0>"
            ]
          },
          "metadata": {},
          "execution_count": 23
        },
        {
          "output_type": "display_data",
          "data": {
            "image/png": "[encoded data removed]",
            "text/plain": [
              "<Figure size 432x288 with 1 Axes>"
            ]
          },
          "metadata": {
            "needs_background": "light"
          }
        }
      ]
    },
    {
      "cell_type": "code",
      "metadata": {
        "colab": {
          "base_uri": "https://localhost:8080/",
          "height": 265
        },
        "id": "uWfuoxCl-il2",
        "outputId": "ac5e7b81-8d97-417e-dffe-1a313bedbee2"
      },
      "source": [
        "# np.random.normal() 의 정체\n",
        "x = np.random.normal(size=5000)\n",
        "plt.hist(x,bins=100)\n",
        "plt.grid()"
      ],
      "execution_count": null,
      "outputs": [
        {
          "output_type": "display_data",
          "data": {
            "image/png": "[encoded data removed]",
            "text/plain": [
              "<Figure size 432x288 with 1 Axes>"
            ]
          },
          "metadata": {
            "needs_background": "light"
          }
        }
      ]
    },
    {
      "cell_type": "code",
      "metadata": {
        "id": "3kV2ugMC_XQ7"
      },
      "source": [
        ""
      ],
      "execution_count": null,
      "outputs": []
    }
  ]
}