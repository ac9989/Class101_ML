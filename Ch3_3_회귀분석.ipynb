{
  "nbformat": 4,
  "nbformat_minor": 0,
  "metadata": {
    "colab": {
      "name": "Ch3_회귀분석.ipynb",
      "provenance": []
    },
    "kernelspec": {
      "name": "python3",
      "display_name": "Python 3"
    },
    "language_info": {
      "name": "python"
    }
  },
  "cells": [
    {
      "cell_type": "markdown",
      "metadata": {
        "id": "-XFS3g9Zoxld"
      },
      "source": [
        "#회귀분석\n",
        "데이터 추세 분석을 위한 알고리즘 (ex) $y=ax+b$)\n",
        "\n",
        "추세분석을 하면 데이터($x$)에 대한 결과($y$) 예측 가능\n",
        "\n",
        "\n",
        "###종류\n",
        "1. 선형회귀 : $y=f(X)$ (공부량과 시험성적, 빈곤률과 10대청소년 임신)\n",
        "2. 논리회귀 : $y=$True $or$ False (합격여부 판별, 질병감염여부 판별)\n",
        "\n",
        "##1. 선형회귀\n",
        "목적 : 주어진 데이터를 통해 데이터에 맞는 수식을 찾는 방식\n",
        "\n",
        "수식은 대략 변수의 선형 결합식으로 표현\n",
        "\n",
        "$y=f(x)$\n",
        "\n",
        "딥러닝에서 출력계층에 활성화 함수X\n",
        "\n",
        "\n",
        "\n",
        "##2. 논리회귀\n",
        "목적 : 주어진 데이처를 통해서 결과의 참-거짓 판별\n",
        "\n",
        "$y = σ(f(x))$\n",
        "\n",
        "딥러닝 출력계층에 활성화 함수O"
      ]
    },
    {
      "cell_type": "code",
      "metadata": {
        "id": "EqUxd1NQodDz"
      },
      "source": [
        "# 논리회귀 예시\n",
        "\n",
        "#라이브러리 호출\n",
        "import torch\n",
        "import torch.nn as nn\n",
        "import torch.optim as opt\n",
        "import torch.nn.functional as F\n",
        "\n",
        "import pandas as pd\n",
        "import numpy as np\n",
        "import matplotlib.pyplot as plt\n",
        "%matplotlib inline"
      ],
      "execution_count": 33,
      "outputs": []
    },
    {
      "cell_type": "code",
      "metadata": {
        "id": "KlivWHXDtTDS"
      },
      "source": [
        "data = pd.read_csv('./3-6 mba_admission.csv')"
      ],
      "execution_count": 4,
      "outputs": []
    },
    {
      "cell_type": "code",
      "metadata": {
        "colab": {
          "base_uri": "https://localhost:8080/",
          "height": 243
        },
        "id": "YL8lg1GW159J",
        "outputId": "fe56b4dc-5539-4784-8e43-86c181114819"
      },
      "source": [
        "print(data.columns)\n",
        "print(data.shape)\n",
        "data.head()"
      ],
      "execution_count": 5,
      "outputs": [
        {
          "output_type": "stream",
          "name": "stdout",
          "text": [
            "Index(['gmat', 'gpa', 'work_experience', 'admitted'], dtype='object')\n",
            "(40, 4)\n"
          ]
        },
        {
          "output_type": "execute_result",
          "data": {
            "text/html": [
              "<div>\n",
              "<style scoped>\n",
              "    .dataframe tbody tr th:only-of-type {\n",
              "        vertical-align: middle;\n",
              "    }\n",
              "\n",
              "    .dataframe tbody tr th {\n",
              "        vertical-align: top;\n",
              "    }\n",
              "\n",
              "    .dataframe thead th {\n",
              "        text-align: right;\n",
              "    }\n",
              "</style>\n",
              "<table border=\"1\" class=\"dataframe\">\n",
              "  <thead>\n",
              "    <tr style=\"text-align: right;\">\n",
              "      <th></th>\n",
              "      <th>gmat</th>\n",
              "      <th>gpa</th>\n",
              "      <th>work_experience</th>\n",
              "      <th>admitted</th>\n",
              "    </tr>\n",
              "  </thead>\n",
              "  <tbody>\n",
              "    <tr>\n",
              "      <th>0</th>\n",
              "      <td>780</td>\n",
              "      <td>4.0</td>\n",
              "      <td>3</td>\n",
              "      <td>1</td>\n",
              "    </tr>\n",
              "    <tr>\n",
              "      <th>1</th>\n",
              "      <td>750</td>\n",
              "      <td>3.9</td>\n",
              "      <td>4</td>\n",
              "      <td>1</td>\n",
              "    </tr>\n",
              "    <tr>\n",
              "      <th>2</th>\n",
              "      <td>690</td>\n",
              "      <td>3.3</td>\n",
              "      <td>3</td>\n",
              "      <td>1</td>\n",
              "    </tr>\n",
              "    <tr>\n",
              "      <th>3</th>\n",
              "      <td>710</td>\n",
              "      <td>3.7</td>\n",
              "      <td>5</td>\n",
              "      <td>1</td>\n",
              "    </tr>\n",
              "    <tr>\n",
              "      <th>4</th>\n",
              "      <td>680</td>\n",
              "      <td>3.9</td>\n",
              "      <td>4</td>\n",
              "      <td>1</td>\n",
              "    </tr>\n",
              "  </tbody>\n",
              "</table>\n",
              "</div>"
            ],
            "text/plain": [
              "   gmat  gpa  work_experience  admitted\n",
              "0   780  4.0                3         1\n",
              "1   750  3.9                4         1\n",
              "2   690  3.3                3         1\n",
              "3   710  3.7                5         1\n",
              "4   680  3.9                4         1"
            ]
          },
          "metadata": {},
          "execution_count": 5
        }
      ]
    },
    {
      "cell_type": "code",
      "metadata": {
        "id": "uKmRa4StuKPJ"
      },
      "source": [
        "#연습용 자료라 데이터의 양이 너무 적은 관계로 Train,Vaild,test 용도는 따로 만들지않음\n",
        "class dataset(torch.utils.data.Dataset):\n",
        "  def __init__(self,data):\n",
        "    self.data = data\n",
        "    self.data['gmat'] /= self.data['gmat'].max()\n",
        "    self.data['gpa'] /= self.data['gpa'].max()\n",
        "    self.data['work_experience'] /= self.data['work_experience'].max()\n",
        "\n",
        "  def __getitem__(self,idx):\n",
        "    X = torch.Tensor(self.data[self.data.columns[:3]].values)\n",
        "    Y = torch.Tensor(self.data['admitted'])\n",
        "    return X[idx,:], Y[idx]\n",
        "\n",
        "  def __len__(self):\n",
        "     return self.data.shape[0]"
      ],
      "execution_count": 20,
      "outputs": []
    },
    {
      "cell_type": "code",
      "metadata": {
        "id": "o7xILlAZ0qNC"
      },
      "source": [
        "train_dataset = dataset(data)\n",
        "train_loader = torch.utils.data.DataLoader(train_dataset,batch_size=8,shuffle=True,drop_last=False)"
      ],
      "execution_count": 21,
      "outputs": []
    },
    {
      "cell_type": "code",
      "metadata": {
        "id": "YOUYvHbz_qkj"
      },
      "source": [
        " #neural network 모델 생성\n",
        " #구조 : 입력(3), 은닉(10), 출력(1)\n",
        " #출력 :           tanh     sigmoid\n",
        " class admission_model(nn.Module):\n",
        "   def __init__(self):\n",
        "     super(admission_model,self).__init__()\n",
        "     self.lin1 = nn.Linear(3,10)\n",
        "     self.lin2 = nn.Linear(10,1)\n",
        "\n",
        "   def forward(self,x):\n",
        "     x = self.lin1(x)\n",
        "     x = F.tanh(x)\n",
        "     x = self.lin2(x)\n",
        "     x = F.sigmoid(x)\n",
        "     return x"
      ],
      "execution_count": 22,
      "outputs": []
    },
    {
      "cell_type": "code",
      "metadata": {
        "id": "OZgggMu3EHbP"
      },
      "source": [
        "model = admission_model()\n",
        "optim = opt.SGD(model.parameters(),lr=0.5)"
      ],
      "execution_count": 23,
      "outputs": []
    },
    {
      "cell_type": "code",
      "metadata": {
        "colab": {
          "base_uri": "https://localhost:8080/"
        },
        "id": "jPBE4OFGEeT5",
        "outputId": "58f5166e-9b53-4ddd-e765-0800c69aad3b"
      },
      "source": [
        "#학습단계\n",
        "for ep in range(100): #epoch 100회\n",
        "  loss_buffer=[]\n",
        "  for X,Y in train_loader: #epoch 마다 각각의 batch단위 학습\n",
        "    optim.zero_grad()\n",
        "    y_infer = model(X) # y_infer.shape == (8,1) gkwlaks Y.shape == (8,)\n",
        "    Y = Y.view(-1,1)\n",
        "    loss = -torch.mean(Y*torch.log(y_infer)+(1-Y)*torch.log(1-y_infer))# loss == creoss entropy 거리함수\n",
        "    loss.backward()\n",
        "    optim.step()\n",
        "    loss_buffer.append(loss.item())\n",
        "  if ep % 10 == 0:\n",
        "      print('Eopch: {}, loss: {}'.format(ep,np.mean(loss_buffer)))\n"
      ],
      "execution_count": 26,
      "outputs": [
        {
          "output_type": "stream",
          "name": "stderr",
          "text": [
            "/usr/local/lib/python3.7/dist-packages/torch/nn/functional.py:1795: UserWarning: nn.functional.tanh is deprecated. Use torch.tanh instead.\n",
            "  warnings.warn(\"nn.functional.tanh is deprecated. Use torch.tanh instead.\")\n",
            "/usr/local/lib/python3.7/dist-packages/torch/nn/functional.py:1806: UserWarning: nn.functional.sigmoid is deprecated. Use torch.sigmoid instead.\n",
            "  warnings.warn(\"nn.functional.sigmoid is deprecated. Use torch.sigmoid instead.\")\n"
          ]
        },
        {
          "output_type": "stream",
          "name": "stdout",
          "text": [
            "Eopch: 0, loss: 0.6143982291221619\n",
            "Eopch: 10, loss: 0.26876443326473237\n",
            "Eopch: 20, loss: 0.1701519951224327\n",
            "Eopch: 30, loss: 0.12923722267150878\n",
            "Eopch: 40, loss: 0.08824908435344696\n",
            "Eopch: 50, loss: 0.09995704516768456\n",
            "Eopch: 60, loss: 0.06930611673742533\n",
            "Eopch: 70, loss: 0.0626559529453516\n",
            "Eopch: 80, loss: 0.06080187996849418\n",
            "Eopch: 90, loss: 0.030162534769624473\n"
          ]
        }
      ]
    },
    {
      "cell_type": "code",
      "metadata": {
        "colab": {
          "base_uri": "https://localhost:8080/",
          "height": 407
        },
        "id": "LcLomoUS4WpH",
        "outputId": "da92583d-c1c9-4a2a-8ebd-1f0bdb872715"
      },
      "source": [
        "# 결과 시각화\n",
        "y_infer = model(torch.Tensor(data[data.columns[:3]].values))\n",
        "\n",
        "plt.scatter(np.arange(data.shape[0]),data['admitted'],color='red',label='True result')\n",
        "plt.scatter(np.arange(data.shape[0]),y_infer.detach().numpy(),color='blue',label='Predicted result')\n",
        "plt.hlines(0.5,-10,60,label='Admission boundary')\n",
        "plt.legend(loc='upper center',fontsize='10')\n",
        "plt.xlim(-1,41)\n",
        "plt.ylim(-0.1,1.5)\n",
        "plt.xlabel('volunteer')\n",
        "plt.ylabel('Result')\n",
        "plt.title('MBA admssion result include prection')\n"
      ],
      "execution_count": 34,
      "outputs": [
        {
          "output_type": "stream",
          "name": "stderr",
          "text": [
            "/usr/local/lib/python3.7/dist-packages/torch/nn/functional.py:1795: UserWarning: nn.functional.tanh is deprecated. Use torch.tanh instead.\n",
            "  warnings.warn(\"nn.functional.tanh is deprecated. Use torch.tanh instead.\")\n",
            "/usr/local/lib/python3.7/dist-packages/torch/nn/functional.py:1806: UserWarning: nn.functional.sigmoid is deprecated. Use torch.sigmoid instead.\n",
            "  warnings.warn(\"nn.functional.sigmoid is deprecated. Use torch.sigmoid instead.\")\n"
          ]
        },
        {
          "output_type": "execute_result",
          "data": {
            "text/plain": [
              "Text(0.5, 1.0, 'MBA admssion result include prection')"
            ]
          },
          "metadata": {},
          "execution_count": 34
        },
        {
          "output_type": "display_data",
          "data": {
            "image/png": "[encoded data removed]",
            "text/plain": [
              "<Figure size 432x288 with 1 Axes>"
            ]
          },
          "metadata": {
            "needs_background": "light"
          }
        }
      ]
    },
    {
      "cell_type": "code",
      "metadata": {
        "id": "dSlUhdoP_QIe"
      },
      "source": [
        ""
      ],
      "execution_count": null,
      "outputs": []
    }
  ]
}