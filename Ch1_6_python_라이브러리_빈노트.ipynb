{
  "nbformat": 4,
  "nbformat_minor": 0,
  "metadata": {
    "colab": {
      "name": "Ch1_6_python_라이브러리_빈노트.ipynb",
      "provenance": []
    },
    "kernelspec": {
      "name": "python3",
      "display_name": "Python 3"
    },
    "language_info": {
      "name": "python"
    }
  },
  "cells": [
    {
      "cell_type": "markdown",
      "metadata": {
        "id": "g2C_xZO8mqzu"
      },
      "source": [
        "# Python 머신러닝에 필요한 라이브러리\n",
        " - 수학계산, 넘파이(Numpy)  < 고급수학계산\n",
        " - 데이터 처리, 판다스(Pandas)  < 데이터 처리에 유용한 데이터 처리 툴\n",
        " - 그림 그리기 툴, 맷플롭(matplotlib) < 머신러닝이후 처리된 데이터 결과, 혹은 수학계산 이후 그려진 그래프를 시각화하기 위한 툴"
      ]
    },
    {
      "cell_type": "markdown",
      "metadata": {
        "id": "xfe8vFiuuEbJ"
      },
      "source": [
        "# import '라이브러리명'"
      ]
    },
    {
      "cell_type": "markdown",
      "metadata": {
        "id": "yrebp7gynk1d"
      },
      "source": [
        "\n",
        "\n",
        "------------------------------------------------------------------------------------\n",
        "#넘파이 Numpy\n",
        " - 수학계산\n",
        "  - 복잡한 함수 (초월함수, 통계 등등)\n",
        "  - 연산 알고리즘 (행렬계산, 미적분 등등)\n",
        "  - 난수생성\n",
        " - 파이토치(Pytorch)는 넘파이 기반으로 작성되었습니다.\n",
        " - 그 중 텐서의 개념은 다음 챕터에서 다뤄보도록한대용"
      ]
    },
    {
      "cell_type": "code",
      "metadata": {
        "colab": {
          "base_uri": "https://localhost:8080/"
        },
        "id": "K4yAXMBSnkXS",
        "outputId": "23466e19-3b40-4636-f59e-1522129b2531"
      },
      "source": [
        "import numpy as np #numpy는 np로 호출된다\n",
        "\n",
        "x = np.linspace(-1,1,100) # -1부터, 1까지 100개의 등간격으로 x를 정의\n",
        "y = np.sin(x)\n",
        "print(y)"
      ],
      "execution_count": null,
      "outputs": [
        {
          "output_type": "stream",
          "name": "stdout",
          "text": [
            "[-0.84147098 -0.83038482 -0.81895978 -0.8072005  -0.79511181 -0.78269862\n",
            " -0.76996601 -0.75691917 -0.74356342 -0.72990422 -0.71594714 -0.70169788\n",
            " -0.68716224 -0.67234618 -0.65725572 -0.64189703 -0.62627638 -0.61040014\n",
            " -0.59427479 -0.57790691 -0.56130318 -0.54447039 -0.52741539 -0.51014514\n",
            " -0.49266671 -0.47498721 -0.45711386 -0.43905397 -0.42081489 -0.40240408\n",
            " -0.38382904 -0.36509735 -0.34621667 -0.3271947  -0.30803919 -0.28875797\n",
            " -0.26935891 -0.24984992 -0.23023896 -0.21053404 -0.1907432  -0.17087452\n",
            " -0.1509361  -0.13093608 -0.11088263 -0.09078392 -0.07064817 -0.05048358\n",
            " -0.03029839 -0.01010084  0.01010084  0.03029839  0.05048358  0.07064817\n",
            "  0.09078392  0.11088263  0.13093608  0.1509361   0.17087452  0.1907432\n",
            "  0.21053404  0.23023896  0.24984992  0.26935891  0.28875797  0.30803919\n",
            "  0.3271947   0.34621667  0.36509735  0.38382904  0.40240408  0.42081489\n",
            "  0.43905397  0.45711386  0.47498721  0.49266671  0.51014514  0.52741539\n",
            "  0.54447039  0.56130318  0.57790691  0.59427479  0.61040014  0.62627638\n",
            "  0.64189703  0.65725572  0.67234618  0.68716224  0.70169788  0.71594714\n",
            "  0.72990422  0.74356342  0.75691917  0.76996601  0.78269862  0.79511181\n",
            "  0.8072005   0.81895978  0.83038482  0.84147098]\n"
          ]
        }
      ]
    },
    {
      "cell_type": "code",
      "metadata": {
        "colab": {
          "base_uri": "https://localhost:8080/"
        },
        "id": "21m01OgIp3hO",
        "outputId": "1e418f63-eae1-492b-ca0e-d0c558da01a1"
      },
      "source": [
        "np.random.choice(x,3,replace=False) # x에서 중복되지않게 3개를 무작위로 고른다"
      ],
      "execution_count": null,
      "outputs": [
        {
          "output_type": "execute_result",
          "data": {
            "text/plain": [
              "array([ 0.97979798, -0.65656566,  0.75757576])"
            ]
          },
          "metadata": {},
          "execution_count": 4
        }
      ]
    },
    {
      "cell_type": "code",
      "metadata": {
        "colab": {
          "base_uri": "https://localhost:8080/"
        },
        "id": "3WYhgX-gqgpE",
        "outputId": "19b258d7-5302-46d0-b965-a9117b561d04"
      },
      "source": [
        "a = np.random.normal(size=(3,5)) # 3x5 행렬의 사이즈 원소가 정규분포표를 따르는 것\n",
        "print(a.shape)\n",
        "print(a)"
      ],
      "execution_count": null,
      "outputs": [
        {
          "output_type": "stream",
          "name": "stdout",
          "text": [
            "(3, 5)\n",
            "[[ 0.04133368  0.71173382 -1.80694656  0.58689303 -0.76210806]\n",
            " [ 0.52479305  0.0949547   0.72108303 -0.85347378 -0.30014751]\n",
            " [ 1.07663108 -2.37986664  2.08391658 -0.01406552  0.08403551]]\n"
          ]
        }
      ]
    },
    {
      "cell_type": "markdown",
      "metadata": {
        "id": "_cdfJx1MrVPj"
      },
      "source": [
        "#판다스 pandas\n",
        " - 데이터 처리"
      ]
    },
    {
      "cell_type": "code",
      "metadata": {
        "id": "W5tdvzn-rIk3"
      },
      "source": [
        "import pandas as pd\n",
        "# 판다스로 데이터파일 호출\n",
        "df = pd.read_csv('./sample_data/california_housing_train.csv')"
      ],
      "execution_count": null,
      "outputs": []
    },
    {
      "cell_type": "code",
      "metadata": {
        "colab": {
          "base_uri": "https://localhost:8080/",
          "height": 203
        },
        "id": "ZDcGG-bWsX0J",
        "outputId": "56abf095-dbfa-47ff-dc0d-d221ef3f353d"
      },
      "source": [
        "df.head()"
      ],
      "execution_count": null,
      "outputs": [
        {
          "output_type": "execute_result",
          "data": {
            "text/html": [
              "<div>\n",
              "<style scoped>\n",
              "    .dataframe tbody tr th:only-of-type {\n",
              "        vertical-align: middle;\n",
              "    }\n",
              "\n",
              "    .dataframe tbody tr th {\n",
              "        vertical-align: top;\n",
              "    }\n",
              "\n",
              "    .dataframe thead th {\n",
              "        text-align: right;\n",
              "    }\n",
              "</style>\n",
              "<table border=\"1\" class=\"dataframe\">\n",
              "  <thead>\n",
              "    <tr style=\"text-align: right;\">\n",
              "      <th></th>\n",
              "      <th>longitude</th>\n",
              "      <th>latitude</th>\n",
              "      <th>housing_median_age</th>\n",
              "      <th>total_rooms</th>\n",
              "      <th>total_bedrooms</th>\n",
              "      <th>population</th>\n",
              "      <th>households</th>\n",
              "      <th>median_income</th>\n",
              "      <th>median_house_value</th>\n",
              "    </tr>\n",
              "  </thead>\n",
              "  <tbody>\n",
              "    <tr>\n",
              "      <th>0</th>\n",
              "      <td>-114.31</td>\n",
              "      <td>34.19</td>\n",
              "      <td>15.0</td>\n",
              "      <td>5612.0</td>\n",
              "      <td>1283.0</td>\n",
              "      <td>1015.0</td>\n",
              "      <td>472.0</td>\n",
              "      <td>1.4936</td>\n",
              "      <td>66900.0</td>\n",
              "    </tr>\n",
              "    <tr>\n",
              "      <th>1</th>\n",
              "      <td>-114.47</td>\n",
              "      <td>34.40</td>\n",
              "      <td>19.0</td>\n",
              "      <td>7650.0</td>\n",
              "      <td>1901.0</td>\n",
              "      <td>1129.0</td>\n",
              "      <td>463.0</td>\n",
              "      <td>1.8200</td>\n",
              "      <td>80100.0</td>\n",
              "    </tr>\n",
              "    <tr>\n",
              "      <th>2</th>\n",
              "      <td>-114.56</td>\n",
              "      <td>33.69</td>\n",
              "      <td>17.0</td>\n",
              "      <td>720.0</td>\n",
              "      <td>174.0</td>\n",
              "      <td>333.0</td>\n",
              "      <td>117.0</td>\n",
              "      <td>1.6509</td>\n",
              "      <td>85700.0</td>\n",
              "    </tr>\n",
              "    <tr>\n",
              "      <th>3</th>\n",
              "      <td>-114.57</td>\n",
              "      <td>33.64</td>\n",
              "      <td>14.0</td>\n",
              "      <td>1501.0</td>\n",
              "      <td>337.0</td>\n",
              "      <td>515.0</td>\n",
              "      <td>226.0</td>\n",
              "      <td>3.1917</td>\n",
              "      <td>73400.0</td>\n",
              "    </tr>\n",
              "    <tr>\n",
              "      <th>4</th>\n",
              "      <td>-114.57</td>\n",
              "      <td>33.57</td>\n",
              "      <td>20.0</td>\n",
              "      <td>1454.0</td>\n",
              "      <td>326.0</td>\n",
              "      <td>624.0</td>\n",
              "      <td>262.0</td>\n",
              "      <td>1.9250</td>\n",
              "      <td>65500.0</td>\n",
              "    </tr>\n",
              "  </tbody>\n",
              "</table>\n",
              "</div>"
            ],
            "text/plain": [
              "   longitude  latitude  ...  median_income  median_house_value\n",
              "0    -114.31     34.19  ...         1.4936             66900.0\n",
              "1    -114.47     34.40  ...         1.8200             80100.0\n",
              "2    -114.56     33.69  ...         1.6509             85700.0\n",
              "3    -114.57     33.64  ...         3.1917             73400.0\n",
              "4    -114.57     33.57  ...         1.9250             65500.0\n",
              "\n",
              "[5 rows x 9 columns]"
            ]
          },
          "metadata": {},
          "execution_count": 7
        }
      ]
    },
    {
      "cell_type": "code",
      "metadata": {
        "colab": {
          "base_uri": "https://localhost:8080/",
          "height": 142
        },
        "id": "gKXfVWBmsiDL",
        "outputId": "90dd04e2-16f9-40c5-cb2b-132da34ad125"
      },
      "source": [
        "df.tail(3)"
      ],
      "execution_count": null,
      "outputs": [
        {
          "output_type": "execute_result",
          "data": {
            "text/html": [
              "<div>\n",
              "<style scoped>\n",
              "    .dataframe tbody tr th:only-of-type {\n",
              "        vertical-align: middle;\n",
              "    }\n",
              "\n",
              "    .dataframe tbody tr th {\n",
              "        vertical-align: top;\n",
              "    }\n",
              "\n",
              "    .dataframe thead th {\n",
              "        text-align: right;\n",
              "    }\n",
              "</style>\n",
              "<table border=\"1\" class=\"dataframe\">\n",
              "  <thead>\n",
              "    <tr style=\"text-align: right;\">\n",
              "      <th></th>\n",
              "      <th>longitude</th>\n",
              "      <th>latitude</th>\n",
              "      <th>housing_median_age</th>\n",
              "      <th>total_rooms</th>\n",
              "      <th>total_bedrooms</th>\n",
              "      <th>population</th>\n",
              "      <th>households</th>\n",
              "      <th>median_income</th>\n",
              "      <th>median_house_value</th>\n",
              "    </tr>\n",
              "  </thead>\n",
              "  <tbody>\n",
              "    <tr>\n",
              "      <th>16997</th>\n",
              "      <td>-124.30</td>\n",
              "      <td>41.84</td>\n",
              "      <td>17.0</td>\n",
              "      <td>2677.0</td>\n",
              "      <td>531.0</td>\n",
              "      <td>1244.0</td>\n",
              "      <td>456.0</td>\n",
              "      <td>3.0313</td>\n",
              "      <td>103600.0</td>\n",
              "    </tr>\n",
              "    <tr>\n",
              "      <th>16998</th>\n",
              "      <td>-124.30</td>\n",
              "      <td>41.80</td>\n",
              "      <td>19.0</td>\n",
              "      <td>2672.0</td>\n",
              "      <td>552.0</td>\n",
              "      <td>1298.0</td>\n",
              "      <td>478.0</td>\n",
              "      <td>1.9797</td>\n",
              "      <td>85800.0</td>\n",
              "    </tr>\n",
              "    <tr>\n",
              "      <th>16999</th>\n",
              "      <td>-124.35</td>\n",
              "      <td>40.54</td>\n",
              "      <td>52.0</td>\n",
              "      <td>1820.0</td>\n",
              "      <td>300.0</td>\n",
              "      <td>806.0</td>\n",
              "      <td>270.0</td>\n",
              "      <td>3.0147</td>\n",
              "      <td>94600.0</td>\n",
              "    </tr>\n",
              "  </tbody>\n",
              "</table>\n",
              "</div>"
            ],
            "text/plain": [
              "       longitude  latitude  ...  median_income  median_house_value\n",
              "16997    -124.30     41.84  ...         3.0313            103600.0\n",
              "16998    -124.30     41.80  ...         1.9797             85800.0\n",
              "16999    -124.35     40.54  ...         3.0147             94600.0\n",
              "\n",
              "[3 rows x 9 columns]"
            ]
          },
          "metadata": {},
          "execution_count": 8
        }
      ]
    },
    {
      "cell_type": "code",
      "metadata": {
        "colab": {
          "base_uri": "https://localhost:8080/"
        },
        "id": "OKDTeDA8s5_1",
        "outputId": "5c4afbf4-b35a-4082-ce9d-3be9341e860a"
      },
      "source": [
        "print(df.shape)\n",
        "print('데이터 개수',df.shape[0])\n",
        "print('데이터 속성의 개수',df.shape[1])"
      ],
      "execution_count": null,
      "outputs": [
        {
          "output_type": "stream",
          "name": "stdout",
          "text": [
            "(17000, 9)\n",
            "데이터 개수 17000\n",
            "데이터 속성의 개수 9\n"
          ]
        }
      ]
    },
    {
      "cell_type": "code",
      "metadata": {
        "colab": {
          "base_uri": "https://localhost:8080/"
        },
        "id": "xsTXuh7xtVJN",
        "outputId": "666abaad-8026-44be-c8bf-9fda5e520169"
      },
      "source": [
        "df.columns"
      ],
      "execution_count": null,
      "outputs": [
        {
          "output_type": "execute_result",
          "data": {
            "text/plain": [
              "Index(['longitude', 'latitude', 'housing_median_age', 'total_rooms',\n",
              "       'total_bedrooms', 'population', 'households', 'median_income',\n",
              "       'median_house_value'],\n",
              "      dtype='object')"
            ]
          },
          "metadata": {},
          "execution_count": 12
        }
      ]
    },
    {
      "cell_type": "markdown",
      "metadata": {
        "id": "t2Ro3zU9txIN"
      },
      "source": [
        "# 맷플롯 Matplotlib\n",
        " - 그래프 그리기\n",
        "  - 선형그래프\n",
        "  - 통계그래프\n",
        "  - 이미지그림"
      ]
    },
    {
      "cell_type": "code",
      "metadata": {
        "colab": {
          "base_uri": "https://localhost:8080/",
          "height": 265
        },
        "id": "KnafmiNItjeN",
        "outputId": "9650d982-295a-454c-b006-afc00d1662f2"
      },
      "source": [
        "import matplotlib.pyplot as plt\n",
        "%matplotlib inline \n",
        "# 넘파이에서 정의한 x,y를 도시\n",
        "plt.plot(x,y,'r--')  # r빨간색으로 --모양의 점선으로\n",
        "plt.grid()  # 격자를 새겨줌"
      ],
      "execution_count": null,
      "outputs": [
        {
          "output_type": "display_data",
          "data": {
            "image/png": "[encoded data removed]",
            "text/plain": [
              "<Figure size 432x288 with 1 Axes>"
            ]
          },
          "metadata": {
            "needs_background": "light"
          }
        }
      ]
    },
    {
      "cell_type": "code",
      "metadata": {
        "colab": {
          "base_uri": "https://localhost:8080/",
          "height": 265
        },
        "id": "OKAjJerMuoXW",
        "outputId": "9a9df49a-efb4-4c10-9554-cb5de118f332"
      },
      "source": [
        "plt.hist(df['median_income'],bins=20)\n",
        "plt.grid()"
      ],
      "execution_count": null,
      "outputs": [
        {
          "output_type": "display_data",
          "data": {
            "image/png": "[encoded data removed]",
            "text/plain": [
              "<Figure size 432x288 with 1 Axes>"
            ]
          },
          "metadata": {
            "needs_background": "light"
          }
        }
      ]
    },
    {
      "cell_type": "code",
      "metadata": {
        "colab": {
          "base_uri": "https://localhost:8080/",
          "height": 282
        },
        "id": "DelqP2eGvo6O",
        "outputId": "95e3c85d-14ea-4d4d-8163-2e46808c7522"
      },
      "source": [
        "# 과제\n",
        "\n",
        "x = np.linspace(-5,5,200)\n",
        "y = np.sin(x)\n",
        "plt.plot(x,y,'b-')"
      ],
      "execution_count": null,
      "outputs": [
        {
          "output_type": "execute_result",
          "data": {
            "text/plain": [
              "[<matplotlib.lines.Line2D at 0x7fa867a4b690>]"
            ]
          },
          "metadata": {},
          "execution_count": 18
        },
        {
          "output_type": "display_data",
          "data": {
            "image/png": "[encoded data removed]",
            "text/plain": [
              "<Figure size 432x288 with 1 Axes>"
            ]
          },
          "metadata": {
            "needs_background": "light"
          }
        }
      ]
    },
    {
      "cell_type": "code",
      "metadata": {
        "id": "wWeXwZRTwbBy"
      },
      "source": [
        ""
      ],
      "execution_count": null,
      "outputs": []
    }
  ]
}