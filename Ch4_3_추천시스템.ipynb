{
  "nbformat": 4,
  "nbformat_minor": 0,
  "metadata": {
    "colab": {
      "name": "Ch4_3_추천시스템.ipynb",
      "provenance": []
    },
    "kernelspec": {
      "name": "python3",
      "display_name": "Python 3"
    },
    "language_info": {
      "name": "python"
    }
  },
  "cells": [
    {
      "cell_type": "code",
      "execution_count": null,
      "metadata": {
        "id": "CXTv8tB3kF_G"
      },
      "outputs": [],
      "source": [
        ""
      ]
    },
    {
      "cell_type": "markdown",
      "source": [
        "#개요\n",
        "##이용처\n",
        "웹서비스 제공, 플랫폼 사업 업체 : 잠재 구매자의 소비여력 증대 목적\n",
        "\n",
        "## 추천 시스템 해결 순서\n",
        "후보생성 - 점수화 - 정렬\n",
        "\n",
        "###후보생성 알고리즘:\n",
        "1. 컨텐츠 기반 추천시스템\n",
        "2. 협업 기반 추천시스템\n",
        "3. 하이브리드 추천시스템 (2차 가공)\n",
        "\n",
        "# 컨텐츠 기반 추천시스템\n",
        "## 유사도 측정 알고리즘(cosine similarity)\n",
        "$cosθ= \\frac{\\vec A ⋅ \\vec B}{|\\vec A|  |\\vec B|}  $\n",
        "### 장점\n",
        "1. 데이터 베이스가 큰 상황에서 유용\n",
        "2. 타인에 대한 환경에 독립적\n",
        "\n",
        "### 단점\n",
        "1. 컨텐츠 정보 모두 파악 필요(추가 컨텐츠 주입시 완전 새로 학습)\n",
        "2. 시스템 등록된 유저만 사용 가능\n",
        "\n",
        "#협업 기반 추천시스템\n",
        "##임베딩 차원 내적\n",
        "$UV^{T}$\n",
        "###장점\n",
        "1. 아이템의 모든 전보가 필요없음\n",
        "2. 유저가 몰랐전 새로운 취향을 추천 가능\n",
        "###단점\n",
        "\n",
        "1. 대용량 데이터 베이스의 한계\n",
        "2. 임베딩 공간 안에 제한\n",
        "\n",
        "##임베딩 차원 분석\n",
        " 사용자 행렬 : $U ∈ R^{m*d}$\n",
        "\n",
        " 아이템 행렬 : $V \\in R^{n*d}$\n",
        "\n",
        " $m$ : 사용자 수, $n$ : 아이템 수, $d$ : 임베딩 수\n",
        "\n",
        " Emdebbing : (사용자, 아이템 표현)공간, 대부분의 임베딩은 표현 불가능\n",
        "\n",
        " 사용법 : nn.Embedding(input_dim,output_dim)\n",
        "\n",
        " "
      ],
      "metadata": {
        "id": "WQjEo1a8mmSK"
      }
    }
  ]
}