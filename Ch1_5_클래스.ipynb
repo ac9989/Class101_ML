{
  "nbformat": 4,
  "nbformat_minor": 0,
  "metadata": {
    "colab": {
      "name": "Ch1_5_클래스.ipynb",
      "provenance": []
    },
    "kernelspec": {
      "name": "python3",
      "display_name": "Python 3"
    },
    "language_info": {
      "name": "python"
    }
  },
  "cells": [
    {
      "cell_type": "markdown",
      "metadata": {
        "id": "D4RpnSbZneMp"
      },
      "source": [
        "# 파이썬을 깔끔하게 - 클래스\n",
        " - 클래스\n",
        "  - 다양한 속성들을 가진 하나의 자료를 표현하기에 적합한 구문\n",
        "  - 예시\n",
        "    - 자동차 : 연료, 기어상태, 속도, 연비, 현재 위치 등...\n",
        "    - 운동 : 운동종류(유산소, 무산소), 열량소모량, 근육성장률, 근손실정도, 피로도 등...\n",
        "    - 인공신경망 : 신경망 구조, 순전파, 역전파 => 나중에 함ㅋㅋ\n"
      ]
    },
    {
      "cell_type": "markdown",
      "metadata": {
        "id": "PZ6C8bEcneb5"
      },
      "source": [
        "Example. 계산기\n",
        " - 계산기 기능\n",
        "  - 사칙연산\n",
        "  - 결과 출력\n",
        "  - 중간값 저장\n",
        "  - 초기화"
      ]
    },
    {
      "cell_type": "code",
      "metadata": {
        "id": "zw2mXyWSpORR"
      },
      "source": [
        "class Calculator():\n",
        "  def __init__(self):  # self == Calculator\n",
        "    self.memory = 0\n",
        "\n",
        "  def show(self): #결과출력\n",
        "    print('현재 계산기에 저장된 값: {:f}'.format(self.memory))\n",
        "\n",
        "  def clear(self): #초기화\n",
        "    self.memory = 0 \n",
        "\n",
        "  def add(self,a):\n",
        "    self.memory += a\n",
        "\n",
        "  def sub(self,a):\n",
        "    self.memory -= a\n",
        "  \n",
        "  def mul(self,a):\n",
        "    self.memory *= a\n",
        "\n",
        "  def div(self,a):\n",
        "    try:\n",
        "      self.memory /= a\n",
        "    except:\n",
        "      print('0으로 나누는 것은 불가능 합니다')\n"
      ],
      "execution_count": null,
      "outputs": []
    },
    {
      "cell_type": "code",
      "metadata": {
        "id": "U6FtR-E3rfAn"
      },
      "source": [
        "cal1 = Calculator()"
      ],
      "execution_count": null,
      "outputs": []
    },
    {
      "cell_type": "code",
      "metadata": {
        "id": "uA2qb6B2rma-"
      },
      "source": [
        "cal1.add(3)"
      ],
      "execution_count": null,
      "outputs": []
    },
    {
      "cell_type": "code",
      "metadata": {
        "colab": {
          "base_uri": "https://localhost:8080/"
        },
        "id": "CmiOFeZkrrI6",
        "outputId": "0c771d1f-accf-43be-b8a3-cb3fea2b9d21"
      },
      "source": [
        "cal1.show()"
      ],
      "execution_count": null,
      "outputs": [
        {
          "output_type": "stream",
          "name": "stdout",
          "text": [
            "현재 계산기에 저장된 값: 3.000000\n"
          ]
        }
      ]
    },
    {
      "cell_type": "code",
      "metadata": {
        "colab": {
          "base_uri": "https://localhost:8080/"
        },
        "id": "or5BhCqUr0Mm",
        "outputId": "42fc6e59-d265-45ff-dd19-577d7b8d04e2"
      },
      "source": [
        "cal1.mul(3.5)\n",
        "cal1.show()"
      ],
      "execution_count": null,
      "outputs": [
        {
          "output_type": "stream",
          "name": "stdout",
          "text": [
            "현재 계산기에 저장된 값: 36.750000\n"
          ]
        }
      ]
    },
    {
      "cell_type": "code",
      "metadata": {
        "colab": {
          "base_uri": "https://localhost:8080/"
        },
        "id": "a7BEM3gMr_Ck",
        "outputId": "a2ce8b68-c118-40cb-9b49-ff388fabc490"
      },
      "source": [
        "cal1.clear()\n",
        "cal1.show()"
      ],
      "execution_count": null,
      "outputs": [
        {
          "output_type": "stream",
          "name": "stdout",
          "text": [
            "현재 계산기에 저장된 값: 0.000000\n"
          ]
        }
      ]
    },
    {
      "cell_type": "code",
      "metadata": {
        "colab": {
          "base_uri": "https://localhost:8080/"
        },
        "id": "c8okRdO7sMsL",
        "outputId": "dc198a15-4825-49d7-dc45-63471dbe67c8"
      },
      "source": [
        "cal2 = Calculator()\n",
        "cal2.sub(5)\n",
        "cal2.show()\n",
        "\n",
        "cal1.add(10)\n",
        "cal1.show()"
      ],
      "execution_count": null,
      "outputs": [
        {
          "output_type": "stream",
          "name": "stdout",
          "text": [
            "현재 계산기에 저장된 값: -5.000000\n",
            "현재 계산기에 저장된 값: 20.000000\n"
          ]
        }
      ]
    },
    {
      "cell_type": "markdown",
      "metadata": {
        "id": "PWwgEjwKtfNM"
      },
      "source": [
        "부모, 자식 클래스\n",
        " - 클래스 간에는 상위,하위 개념이 있음\n",
        "  - Pytorch 라이브러리사용할 때 잘 알아두면 편함"
      ]
    },
    {
      "cell_type": "markdown",
      "metadata": {
        "id": "cI5cjY48t4l7"
      },
      "source": [
        "Example 2. 고급 계산기 부모, 자식 상속 예제\n",
        " - first_sol : $ax+b$\n",
        " - second_sol : $ax^2+bx+c$"
      ]
    },
    {
      "cell_type": "code",
      "metadata": {
        "id": "KN7_pSqwsdum"
      },
      "source": [
        "class advance_calculator(Calculator):\n",
        "  def __init__(self):\n",
        "    super(advance_calculator,self).__init__()\n",
        "\n",
        "  def first_sol(self,a,b):\n",
        "    self.memory = a*self.memory+b\n",
        "\n",
        "  def second_sol(self,a,b,c):\n",
        "    self.memory = a*self.memory**2+b*self.memory+c\n"
      ],
      "execution_count": null,
      "outputs": []
    },
    {
      "cell_type": "code",
      "metadata": {
        "colab": {
          "base_uri": "https://localhost:8080/",
          "height": 308
        },
        "id": "fLb0mumowDi8",
        "outputId": "d1a00002-f36d-4ced-a335-516622b2c486"
      },
      "source": [
        "adv_cal = advance_calculator()\n",
        "adv_cal.add(3)"
      ],
      "execution_count": null,
      "outputs": [
        {
          "output_type": "error",
          "ename": "AttributeError",
          "evalue": "ignored",
          "traceback": [
            "\u001b[0;31m---------------------------------------------------------------------------\u001b[0m",
            "\u001b[0;31mAttributeError\u001b[0m                            Traceback (most recent call last)",
            "\u001b[0;32m<ipython-input-31-2993aa2bb2c8>\u001b[0m in \u001b[0;36m<module>\u001b[0;34m()\u001b[0m\n\u001b[1;32m      1\u001b[0m \u001b[0madv_cal\u001b[0m \u001b[0;34m=\u001b[0m \u001b[0madvance_calculator\u001b[0m\u001b[0;34m(\u001b[0m\u001b[0;34m)\u001b[0m\u001b[0;34m\u001b[0m\u001b[0;34m\u001b[0m\u001b[0m\n\u001b[0;32m----> 2\u001b[0;31m \u001b[0madv_cal\u001b[0m\u001b[0;34m.\u001b[0m\u001b[0madd\u001b[0m\u001b[0;34m(\u001b[0m\u001b[0;36m3\u001b[0m\u001b[0;34m)\u001b[0m\u001b[0;34m\u001b[0m\u001b[0;34m\u001b[0m\u001b[0m\n\u001b[0m",
            "\u001b[0;32m<ipython-input-1-c928e59be15c>\u001b[0m in \u001b[0;36madd\u001b[0;34m(self, a)\u001b[0m\n\u001b[1;32m     10\u001b[0m \u001b[0;34m\u001b[0m\u001b[0m\n\u001b[1;32m     11\u001b[0m   \u001b[0;32mdef\u001b[0m \u001b[0madd\u001b[0m\u001b[0;34m(\u001b[0m\u001b[0mself\u001b[0m\u001b[0;34m,\u001b[0m\u001b[0ma\u001b[0m\u001b[0;34m)\u001b[0m\u001b[0;34m:\u001b[0m\u001b[0;34m\u001b[0m\u001b[0;34m\u001b[0m\u001b[0m\n\u001b[0;32m---> 12\u001b[0;31m     \u001b[0mself\u001b[0m\u001b[0;34m.\u001b[0m\u001b[0mmemory\u001b[0m \u001b[0;34m+=\u001b[0m \u001b[0ma\u001b[0m\u001b[0;34m\u001b[0m\u001b[0;34m\u001b[0m\u001b[0m\n\u001b[0m\u001b[1;32m     13\u001b[0m \u001b[0;34m\u001b[0m\u001b[0m\n\u001b[1;32m     14\u001b[0m   \u001b[0;32mdef\u001b[0m \u001b[0msub\u001b[0m\u001b[0;34m(\u001b[0m\u001b[0mself\u001b[0m\u001b[0;34m,\u001b[0m\u001b[0ma\u001b[0m\u001b[0;34m)\u001b[0m\u001b[0;34m:\u001b[0m\u001b[0;34m\u001b[0m\u001b[0;34m\u001b[0m\u001b[0m\n",
            "\u001b[0;31mAttributeError\u001b[0m: 'advance_calculator' object has no attribute 'memory'"
          ]
        }
      ]
    },
    {
      "cell_type": "code",
      "metadata": {
        "id": "GEQChlahwV4Y"
      },
      "source": [
        ""
      ],
      "execution_count": null,
      "outputs": []
    }
  ]
}