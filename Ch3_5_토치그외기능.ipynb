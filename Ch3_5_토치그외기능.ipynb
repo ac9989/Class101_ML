{
  "nbformat": 4,
  "nbformat_minor": 0,
  "metadata": {
    "colab": {
      "name": "Ch3_5_토치그외기능.ipynb",
      "provenance": []
    },
    "kernelspec": {
      "name": "python3",
      "display_name": "Python 3"
    },
    "language_info": {
      "name": "python"
    },
    "accelerator": "GPU"
  },
  "cells": [
    {
      "cell_type": "code",
      "execution_count": 1,
      "metadata": {
        "id": "76GhKV8VVMv4"
      },
      "outputs": [],
      "source": [
        "import torch\n",
        "import torch.nn as nn\n",
        "import torch.optim as opt\n",
        "import numpy as np"
      ]
    },
    {
      "cell_type": "markdown",
      "source": [
        "# CUDA 하드웨어 가속기 이용법\n",
        "CUDA = NVIDIA에서 독점중인 하드웨어 가속기"
      ],
      "metadata": {
        "id": "UwhRX5lKVp8c"
      }
    },
    {
      "cell_type": "code",
      "source": [
        "print(torch.cuda.is_available())\n",
        "#토치에서 쿠다 사용가능한지?\n",
        "print(torch.cuda.current_device())\n",
        "#연결된 쿠다 장치의 정체\n",
        "print(torch.cuda.device_count())\n",
        "#그래픽카드의 장 수\n",
        "print(torch.cuda.get_device_name(0))\n",
        "#그래픽카드 장치의 이름\n",
        "device = torch.device('cuda' if torch.cuda.is_available() else 'cpu')\n",
        "#앞으로 토치안의 메모리변수를 어느장치에 할당 정의"
      ],
      "metadata": {
        "colab": {
          "base_uri": "https://localhost:8080/"
        },
        "id": "mTa14j-gVoKB",
        "outputId": "158d4338-f4e3-44a4-ca9e-b4093bc59ddd"
      },
      "execution_count": 9,
      "outputs": [
        {
          "output_type": "stream",
          "name": "stdout",
          "text": [
            "True\n",
            "0\n",
            "1\n",
            "Tesla K80\n"
          ]
        }
      ]
    },
    {
      "cell_type": "markdown",
      "source": [
        "# 모델 저장 및 불러오기"
      ],
      "metadata": {
        "id": "X_4_SCRBXKOP"
      }
    },
    {
      "cell_type": "code",
      "source": [
        "class model(nn.Module):\n",
        "  def __init__(self):\n",
        "    super(model,self).__init__()\n",
        "    self.lin1 = nn.Linear(1,1)\n",
        "\n",
        "  def forward(self,x):\n",
        "    x = self.lin1(x)\n",
        "    return x"
      ],
      "metadata": {
        "id": "ngu0hGDHXOo9"
      },
      "execution_count": 6,
      "outputs": []
    },
    {
      "cell_type": "code",
      "source": [
        "test_model = model().to(device) #test_model은 CUDA장치에 할당\n",
        "optimizer = opt.SGD(test_model.parameters(),lr=0.1)"
      ],
      "metadata": {
        "id": "VCouFhUtX58N"
      },
      "execution_count": 7,
      "outputs": []
    },
    {
      "cell_type": "code",
      "source": [
        "x_data = np.linspace(-1,1,100)\n",
        "y_data = np.sin(x_data)+np.random.uniform(-1,1,size=100)\n",
        "x = torch.Tensor(x_data).view(-1,1).to(device)\n",
        "y = torch.Tensor(y_data).view(-1,1).to(device) #x,y도 같은 device(CUDA)로 할당해서 계산해야함"
      ],
      "metadata": {
        "id": "PQkDJvSMYeQ6"
      },
      "execution_count": 8,
      "outputs": []
    },
    {
      "cell_type": "code",
      "source": [
        "print(x)"
      ],
      "metadata": {
        "colab": {
          "base_uri": "https://localhost:8080/"
        },
        "id": "0bRHlWcLpKSD",
        "outputId": "61e221f6-5b6a-4b87-e884-18d99e24c3dc"
      },
      "execution_count": 10,
      "outputs": [
        {
          "output_type": "stream",
          "name": "stdout",
          "text": [
            "tensor([[-1.0000],\n",
            "        [-0.9798],\n",
            "        [-0.9596],\n",
            "        [-0.9394],\n",
            "        [-0.9192],\n",
            "        [-0.8990],\n",
            "        [-0.8788],\n",
            "        [-0.8586],\n",
            "        [-0.8384],\n",
            "        [-0.8182],\n",
            "        [-0.7980],\n",
            "        [-0.7778],\n",
            "        [-0.7576],\n",
            "        [-0.7374],\n",
            "        [-0.7172],\n",
            "        [-0.6970],\n",
            "        [-0.6768],\n",
            "        [-0.6566],\n",
            "        [-0.6364],\n",
            "        [-0.6162],\n",
            "        [-0.5960],\n",
            "        [-0.5758],\n",
            "        [-0.5556],\n",
            "        [-0.5354],\n",
            "        [-0.5152],\n",
            "        [-0.4949],\n",
            "        [-0.4747],\n",
            "        [-0.4545],\n",
            "        [-0.4343],\n",
            "        [-0.4141],\n",
            "        [-0.3939],\n",
            "        [-0.3737],\n",
            "        [-0.3535],\n",
            "        [-0.3333],\n",
            "        [-0.3131],\n",
            "        [-0.2929],\n",
            "        [-0.2727],\n",
            "        [-0.2525],\n",
            "        [-0.2323],\n",
            "        [-0.2121],\n",
            "        [-0.1919],\n",
            "        [-0.1717],\n",
            "        [-0.1515],\n",
            "        [-0.1313],\n",
            "        [-0.1111],\n",
            "        [-0.0909],\n",
            "        [-0.0707],\n",
            "        [-0.0505],\n",
            "        [-0.0303],\n",
            "        [-0.0101],\n",
            "        [ 0.0101],\n",
            "        [ 0.0303],\n",
            "        [ 0.0505],\n",
            "        [ 0.0707],\n",
            "        [ 0.0909],\n",
            "        [ 0.1111],\n",
            "        [ 0.1313],\n",
            "        [ 0.1515],\n",
            "        [ 0.1717],\n",
            "        [ 0.1919],\n",
            "        [ 0.2121],\n",
            "        [ 0.2323],\n",
            "        [ 0.2525],\n",
            "        [ 0.2727],\n",
            "        [ 0.2929],\n",
            "        [ 0.3131],\n",
            "        [ 0.3333],\n",
            "        [ 0.3535],\n",
            "        [ 0.3737],\n",
            "        [ 0.3939],\n",
            "        [ 0.4141],\n",
            "        [ 0.4343],\n",
            "        [ 0.4545],\n",
            "        [ 0.4747],\n",
            "        [ 0.4949],\n",
            "        [ 0.5152],\n",
            "        [ 0.5354],\n",
            "        [ 0.5556],\n",
            "        [ 0.5758],\n",
            "        [ 0.5960],\n",
            "        [ 0.6162],\n",
            "        [ 0.6364],\n",
            "        [ 0.6566],\n",
            "        [ 0.6768],\n",
            "        [ 0.6970],\n",
            "        [ 0.7172],\n",
            "        [ 0.7374],\n",
            "        [ 0.7576],\n",
            "        [ 0.7778],\n",
            "        [ 0.7980],\n",
            "        [ 0.8182],\n",
            "        [ 0.8384],\n",
            "        [ 0.8586],\n",
            "        [ 0.8788],\n",
            "        [ 0.8990],\n",
            "        [ 0.9192],\n",
            "        [ 0.9394],\n",
            "        [ 0.9596],\n",
            "        [ 0.9798],\n",
            "        [ 1.0000]], device='cuda:0')\n"
          ]
        }
      ]
    },
    {
      "cell_type": "code",
      "source": [
        "#test_model 학습\n",
        "for ep in range(10):\n",
        "  optimizer.zero_grad()\n",
        "  y_infer = test_model(x)\n",
        "  loss = torch.mean((y_infer-y)**2)\n",
        "  loss.backward()\n",
        "  optimizer.step()\n",
        "  print(loss.item())"
      ],
      "metadata": {
        "colab": {
          "base_uri": "https://localhost:8080/"
        },
        "id": "pONtDGHxZmNJ",
        "outputId": "838d014d-45c9-4435-f17b-516380c1a15a"
      },
      "execution_count": 11,
      "outputs": [
        {
          "output_type": "stream",
          "name": "stdout",
          "text": [
            "0.5914525985717773\n",
            "0.5007878541946411\n",
            "0.44270795583724976\n",
            "0.405489444732666\n",
            "0.38162848353385925\n",
            "0.3663216233253479\n",
            "0.356494277715683\n",
            "0.3501777648925781\n",
            "0.34611183404922485\n",
            "0.34348922967910767\n"
          ]
        }
      ]
    },
    {
      "cell_type": "code",
      "source": [
        "# 현재까지 학습이 다 완료된 상태 세이브\n",
        "torch.save(test_model,'./model_save.pth')\n",
        "del test_model"
      ],
      "metadata": {
        "id": "Bf2-IWD9av7z"
      },
      "execution_count": 12,
      "outputs": []
    },
    {
      "cell_type": "code",
      "source": [
        "#모델 로딩!! 주의 저장된 모델에 대한 소스코드의 정보는 앞서서 정의가 되어있어야 합니다!\n",
        "test_model = torch.load('./model_save.pth')"
      ],
      "metadata": {
        "id": "KZUQwHDcbSDm"
      },
      "execution_count": 14,
      "outputs": []
    },
    {
      "cell_type": "code",
      "source": [
        "print(test_model)"
      ],
      "metadata": {
        "colab": {
          "base_uri": "https://localhost:8080/"
        },
        "id": "WytVVyPgb_NE",
        "outputId": "14ded93d-afd3-4ac1-d417-201c0211e2c3"
      },
      "execution_count": 15,
      "outputs": [
        {
          "output_type": "stream",
          "name": "stdout",
          "text": [
            "model(\n",
            "  (lin1): Linear(in_features=1, out_features=1, bias=True)\n",
            ")\n"
          ]
        }
      ]
    },
    {
      "cell_type": "markdown",
      "source": [
        "# Tensor --> numpy"
      ],
      "metadata": {
        "id": "MWLNYHmycE62"
      }
    },
    {
      "cell_type": "code",
      "source": [
        "x = torch.Tensor(torch.linspace(-1,1)).view(-1,1).to(device)\n",
        "\n",
        "y_infer = test_model(x)\n",
        "print(y_infer.mean())"
      ],
      "metadata": {
        "colab": {
          "base_uri": "https://localhost:8080/"
        },
        "id": "boS8DloscWYi",
        "outputId": "80440fc1-aae2-4d4b-a1bc-588629bc1da1"
      },
      "execution_count": 16,
      "outputs": [
        {
          "output_type": "stream",
          "name": "stdout",
          "text": [
            "tensor(0.0637, device='cuda:0', grad_fn=<MeanBackward0>)\n"
          ]
        },
        {
          "output_type": "stream",
          "name": "stderr",
          "text": [
            "/usr/local/lib/python3.7/dist-packages/ipykernel_launcher.py:1: UserWarning: Not providing a value for linspace's steps is deprecated and will throw a runtime error in a future release. This warning will appear only once per process. (Triggered internally at  ../aten/src/ATen/native/RangeFactories.cpp:23.)\n",
            "  \"\"\"Entry point for launching an IPython kernel.\n"
          ]
        }
      ]
    },
    {
      "cell_type": "code",
      "source": [
        "y_numpy = y_infer.detach().cpu().numpy()\n",
        "print(y_numpy.mean())"
      ],
      "metadata": {
        "colab": {
          "base_uri": "https://localhost:8080/"
        },
        "id": "5TlDc_Xoc_Kd",
        "outputId": "f40e815e-b88c-4a14-ed8e-1b84a9da6693"
      },
      "execution_count": 17,
      "outputs": [
        {
          "output_type": "stream",
          "name": "stdout",
          "text": [
            "0.063745424\n"
          ]
        }
      ]
    }
  ]
}