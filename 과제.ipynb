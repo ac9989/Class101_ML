{
  "nbformat": 4,
  "nbformat_minor": 0,
  "metadata": {
    "colab": {
      "name": "과제.ipynb",
      "provenance": []
    },
    "kernelspec": {
      "name": "python3",
      "display_name": "Python 3"
    },
    "language_info": {
      "name": "python"
    }
  },
  "cells": [
    {
      "cell_type": "code",
      "metadata": {
        "id": "CbyjB8FNjurL"
      },
      "source": [
        "import numpy as np\n",
        "import matplotlib.pyplot as plt\n",
        "%matplotlib inline"
      ],
      "execution_count": null,
      "outputs": []
    },
    {
      "cell_type": "code",
      "metadata": {
        "colab": {
          "base_uri": "https://localhost:8080/"
        },
        "id": "ZDKnk6bDYq6k",
        "outputId": "58b69162-7709-44c7-8afd-1b031f510238"
      },
      "source": [
        "# 1\n",
        "A = np.array([[3],[5],[-10]])\n",
        "B = np.array([[-5],[3],[-2]])\n",
        "print(A+B)"
      ],
      "execution_count": null,
      "outputs": [
        {
          "output_type": "stream",
          "name": "stdout",
          "text": [
            "[[ -2]\n",
            " [  8]\n",
            " [-12]]\n"
          ]
        }
      ]
    },
    {
      "cell_type": "code",
      "metadata": {
        "colab": {
          "base_uri": "https://localhost:8080/"
        },
        "id": "noe50QlZjuGh",
        "outputId": "e53b1a91-fce3-4a35-cb4f-a16ec799d973"
      },
      "source": [
        "# 2\n",
        "A = np.array([[1,5,-2,3],[-1,2,-8,3],[2,3,6,5]])\n",
        "B = np.array([[-1,-2,-7,-5],[-2,1,1,3],[3,1,3,-5]])\n",
        "print(A+B)"
      ],
      "execution_count": null,
      "outputs": [
        {
          "output_type": "stream",
          "name": "stdout",
          "text": [
            "[[ 0  3 -9 -2]\n",
            " [-3  3 -7  6]\n",
            " [ 5  4  9  0]]\n"
          ]
        }
      ]
    },
    {
      "cell_type": "code",
      "metadata": {
        "colab": {
          "base_uri": "https://localhost:8080/"
        },
        "id": "28IiF6ILlGWj",
        "outputId": "a4a373ea-297c-4e73-eedd-fed5aa324d51"
      },
      "source": [
        "# 3\n",
        "A = np.array([[2,4,-3],[6,5,5],[1,-3,4]])\n",
        "\n",
        "# 3-1\n",
        "print(np.matmul(A,A))\n",
        "\n",
        "# 3-2\n",
        "print(np.matmul(A,A.T))"
      ],
      "execution_count": null,
      "outputs": [
        {
          "output_type": "stream",
          "name": "stdout",
          "text": [
            "[[ 25  37   2]\n",
            " [ 47  34  27]\n",
            " [-12 -23  -2]]\n",
            "[[ 29  17 -22]\n",
            " [ 17  86  11]\n",
            " [-22  11  26]]\n"
          ]
        }
      ]
    },
    {
      "cell_type": "code",
      "metadata": {
        "colab": {
          "base_uri": "https://localhost:8080/"
        },
        "id": "wXPkDgf8li0N",
        "outputId": "42098c25-622b-4636-db91-16699f69e016"
      },
      "source": [
        "# 4\n",
        "A = np.random.normal(size=(5,2,10))\n",
        "B = np.random.normal(size=(10,2))\n",
        "AB = np.matmul(A,B)\n",
        "print('AB의 차원은 ', AB.shape)"
      ],
      "execution_count": null,
      "outputs": [
        {
          "output_type": "stream",
          "name": "stdout",
          "text": [
            "AB의 차원은  (5, 2, 2)\n"
          ]
        }
      ]
    },
    {
      "cell_type": "code",
      "metadata": {
        "colab": {
          "base_uri": "https://localhost:8080/"
        },
        "id": "D3zXf_idnBOA",
        "outputId": "5eaca67b-c3ac-4ae1-9f5e-21243896e82a"
      },
      "source": [
        "# 1\n",
        "T = [-2,-1,0,1,2,3,4]\n",
        "p_A = [0.07,0.13,0.3,0.05,0.05,0.18,0.22]\n",
        "p_B = [0.22,0.18,0.13,0.05,0.3,0.05,0.07]\n",
        "\n",
        "exp1 = 0\n",
        "exp2 = 0\n",
        "\n",
        "for idx,i in enumerate(p_A):\n",
        " exp1 += (idx-2)*i\n",
        "print(exp1)\n",
        "\n",
        "for idx,i in enumerate(p_B):\n",
        " exp2 += (idx-2)*i\n",
        "print(exp2)"
      ],
      "execution_count": null,
      "outputs": [
        {
          "output_type": "stream",
          "name": "stdout",
          "text": [
            "1.3\n",
            "0.4600000000000001\n"
          ]
        }
      ]
    },
    {
      "cell_type": "code",
      "metadata": {
        "colab": {
          "base_uri": "https://localhost:8080/"
        },
        "id": "k3I2diSTpvEK",
        "outputId": "c63da336-6655-4a45-fa84-6ac19597de9c"
      },
      "source": [
        "# 2\n",
        "print('평균',np.mean(p_A))\n",
        "print('분산',np.var(p_A))\n",
        "print('표준편차',np.std(p_A))"
      ],
      "execution_count": null,
      "outputs": [
        {
          "output_type": "stream",
          "name": "stdout",
          "text": [
            "평균 0.14285714285714285\n",
            "분산 0.007820408163265307\n",
            "표준편차 0.08843307166024092\n"
          ]
        }
      ]
    },
    {
      "cell_type": "code",
      "metadata": {
        "colab": {
          "base_uri": "https://localhost:8080/"
        },
        "id": "pTitywrCVgd4",
        "outputId": "8865e7c8-a3ea-49cb-a75c-3edc042ab038"
      },
      "source": [
        "# 3\n",
        "p_A = np.array([0.07,0.13,0.3,0.05,0.05,0.18,0.22])\n",
        "p_B = np.array([0.22,0.18,0.13,0.05,0.3,0.05,0.07])\n",
        "\n",
        "def kl_div(dist1,dist2):\n",
        "  return np.sum(dist1*np.log(dist1/dist2))\n",
        "\n",
        "print(kl_div(p_A,p_B))"
      ],
      "execution_count": null,
      "outputs": [
        {
          "output_type": "stream",
          "name": "stdout",
          "text": [
            "0.5213194595709032\n"
          ]
        }
      ]
    },
    {
      "cell_type": "code",
      "metadata": {
        "colab": {
          "base_uri": "https://localhost:8080/",
          "height": 265
        },
        "id": "SCE-Ib3wWjN0",
        "outputId": "474f7a62-8d80-4349-9c2a-d890633ae09a"
      },
      "source": [
        "# 1\n",
        "\n",
        "\n",
        "z = np.linspace(-3,3)\n",
        "def f(x,y,z):\n",
        "  return 2*x**3+5*x**2*z-z*y**2+3*x*y-2*z**2+3*x*y*z\n",
        "\n",
        "#1.1\n",
        "x = np.linspace(-3,3)\n",
        "def gradx(x,y,z):\n",
        "  return (f(x+1e-10,y,z)-f(x,y,z))/(1e-10)\n",
        "\n",
        "grad1 = gradx(x,2,-1)\n",
        "plt.plot(x,grad1)\n",
        "plt.grid()\n",
        "\n",
        "#1.2\n",
        "y = np.linspace(-3,3)\n",
        "def grady(x,y,z):\n",
        "  return (f(x,y+1e-10,z)-f(x,y,z))/(1e-10)\n",
        "\n",
        "grad2 = grady(1,y,2)\n",
        "plt.plot(y,grad2)\n",
        "plt.grid()\n",
        "\n",
        "#1.3\n",
        "z = np.linspace(-3,3)\n",
        "def gradz(x,y,z):\n",
        "  return (f(x,y,z+1e-10)-f(x,y,z))/(1e-10)\n",
        "\n",
        "grad3 = gradz(-1,0,z)\n",
        "plt.plot(y,grad3)\n",
        "plt.grid()"
      ],
      "execution_count": null,
      "outputs": [
        {
          "output_type": "display_data",
          "data": {
            "image/png": "[encoded data removed]",
            "text/plain": [
              "<Figure size 432x288 with 1 Axes>"
            ]
          },
          "metadata": {
            "needs_background": "light"
          }
        }
      ]
    },
    {
      "cell_type": "code",
      "metadata": {
        "colab": {
          "base_uri": "https://localhost:8080/",
          "height": 304
        },
        "id": "N0SnzX4OYpVA",
        "outputId": "fedbf343-4713-4695-df7c-f242dc31c05c"
      },
      "source": [
        "x = np.linspace(2.7,7.5)\n",
        "\n",
        "def f(x):\n",
        "  return np.sin(x)+np.sin(10*x/3)\n",
        "y=f(x)\n",
        "def df(x):\n",
        "  return (f(x+1e-10)-f(x))/(1e-10)\n",
        "\n",
        "x_0 = 2.7\n",
        "plt.plot(x,y)\n",
        "plt.plot(x_0,f(x_0),'r*',label='0 time')\n",
        "\n",
        "for ep in range(10):\n",
        "  x_0 -= 0.5*df(x_0) \n",
        "  if ep%3==0:\n",
        "    plt.plot(x_0,f(x_0),'*',label='{:d} times'.format(ep+1))\n",
        "print(x_0,f(x_0))\n",
        "plt.legend()"
      ],
      "execution_count": null,
      "outputs": [
        {
          "output_type": "stream",
          "name": "stdout",
          "text": [
            "3.627252996607564 -0.9245997474995407\n"
          ]
        },
        {
          "output_type": "execute_result",
          "data": {
            "text/plain": [
              "<matplotlib.legend.Legend at 0x7f6828fd91d0>"
            ]
          },
          "metadata": {},
          "execution_count": 4
        },
        {
          "output_type": "display_data",
          "data": {
            "image/png": "[encoded data removed]",
            "text/plain": [
              "<Figure size 432x288 with 1 Axes>"
            ]
          },
          "metadata": {
            "needs_background": "light"
          }
        }
      ]
    },
    {
      "cell_type": "code",
      "metadata": {
        "colab": {
          "base_uri": "https://localhost:8080/",
          "height": 304
        },
        "id": "ZN8xmYfbb71b",
        "outputId": "cfe6f1bd-5b8b-449f-ddd7-6376c7a5efc6"
      },
      "source": [
        "x_0 = 4.3\n",
        "plt.plot(x,y)\n",
        "plt.plot(x_0,f(x_0),'r*',label='0 time')\n",
        "\n",
        "for ep in range(10):\n",
        "  x_0 -= 0.1*df(x_0)\n",
        "  if ep%3==0:\n",
        "    plt.plot(x_0,f(x_0),'*',label='{:d} times'.format(ep+1))\n",
        "print(x_0,f(x_0))\n",
        "plt.legend()"
      ],
      "execution_count": null,
      "outputs": [
        {
          "output_type": "stream",
          "name": "stdout",
          "text": [
            "5.145735370624823 -1.899599349152075\n"
          ]
        },
        {
          "output_type": "execute_result",
          "data": {
            "text/plain": [
              "<matplotlib.legend.Legend at 0x7f60f3a34710>"
            ]
          },
          "metadata": {},
          "execution_count": 50
        },
        {
          "output_type": "display_data",
          "data": {
            "image/png": "[encoded data removed]",
            "text/plain": [
              "<Figure size 432x288 with 1 Axes>"
            ]
          },
          "metadata": {
            "needs_background": "light"
          }
        }
      ]
    },
    {
      "cell_type": "code",
      "metadata": {
        "colab": {
          "base_uri": "https://localhost:8080/"
        },
        "id": "k7_kFtf4sr2i",
        "outputId": "18c25e1f-8df3-48f0-d14a-294b56e3848e"
      },
      "source": [
        "X = [3.68,3.57,3.46]\n",
        "def f(x):\n",
        "  return x**2\n",
        "\n",
        "for i in X:\n",
        "  x_0 = i\n",
        "  y_0 = f(x_0)\n",
        "  for ep in range(50):\n",
        "    x_0 -= 0.01*2*x_0\n",
        "  print(x_0)  "
      ],
      "execution_count": null,
      "outputs": [
        {
          "output_type": "stream",
          "name": "stdout",
          "text": [
            "1.3401444227205908\n",
            "1.3000857579110077\n",
            "1.2600270931014255\n"
          ]
        }
      ]
    },
    {
      "cell_type": "code",
      "metadata": {
        "colab": {
          "base_uri": "https://localhost:8080/"
        },
        "id": "eqN1WhHot5k_",
        "outputId": "89ed0384-28ff-4159-adce-a7004c57bb59"
      },
      "source": [
        "def func(x):\n",
        "  return x**2\n",
        "\n",
        "x1 = 3.68\n",
        "x2 = 3.57\n",
        "x3 = 3.46\n",
        "\n",
        "X = np.array([x1,x2,x3])\n",
        "for i in range(50):\n",
        "  X = X - 0.1*np.mean(2*X)\n",
        "print(X)  "
      ],
      "execution_count": null,
      "outputs": [
        {
          "output_type": "stream",
          "name": "stdout",
          "text": [
            "[ 1.10050953e-01  5.09527426e-05 -1.09949047e-01]\n"
          ]
        }
      ]
    },
    {
      "cell_type": "code",
      "metadata": {
        "id": "asZAmPOKvZCi"
      },
      "source": [
        ""
      ],
      "execution_count": null,
      "outputs": []
    }
  ]
}