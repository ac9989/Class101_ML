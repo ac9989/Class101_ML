{
  "nbformat": 4,
  "nbformat_minor": 0,
  "metadata": {
    "colab": {
      "name": "Ch3_2_데이터 가공.ipynb",
      "provenance": []
    },
    "kernelspec": {
      "name": "python3",
      "display_name": "Python 3"
    },
    "language_info": {
      "name": "python"
    }
  },
  "cells": [
    {
      "cell_type": "markdown",
      "metadata": {
        "id": "-VIxNmNBujwj"
      },
      "source": [
        "#어떤 데이터로부터 그래프의 형태를 추론하는 과정 중 \n",
        " - 적정학습\n",
        " - 과적학습(over) : 너무 지나치게 오차를 줄이려다보니 그래프의 형태가 이상해짐\n",
        " - 과소학습(under) : 아직 데이터값이 부족하여 그래프의 형태가 정확하지않음\n",
        "\n",
        " = 과소,과적을 피하기위해 모니터링이 필요함 $항상!$\n",
        "\n",
        "\n",
        "#데이터의 종류\n",
        " - Train-dataset : 학습할 때 실제로 사용할 데이터\n",
        " - Vaildation-dataset : 학습과정 모니터용 데이터\n",
        " - Test-dataset : 실제 운용할 데이터(학습과정 중 발생하는 데이터 값은 아님)\n",
        "\n",
        "#학습 정도에 따른 진단\n",
        " 1. 적정적합 : Train-dataset의 Loss, Vaildation-dataset의 Loss 모두 적절히 충분히 낮음\n",
        " 2. 과적적합 : Train-dataset의 Loss는 매우 작고, Vaildation-dataset의 Loss는 크다\n",
        " 3. 과소적합 : Train-dataset의 Loss, Vaildation-dataset의 Loss 모두 큰 상태\n",
        "\n",
        "#Data bantching\n",
        "전체 데이터에서 용도에 따라 Traing, Vaild, Test용을 대략 8:1:1정도로 나눈다.\n",
        "하지만 실제 데이터에선 용도에 따라 구분되어있지 않으므로 일반적인 수치인 8:1:1로 나눠주면 편하다. 데이터 값은 최소 수천개 이상은 되어야 함\n",
        "\n",
        "- 데이터 분류 프로세스\n",
        " - Data-shffling : 전체 데이터를 골고루 섞음\n",
        " - Dataser-sepertion : Train, Vaild, Test 용도별 분리\n",
        " - Data preprocess : 전처리(잡음제거, 정규화(단위맞추기), 등등...)\n",
        "\n",
        "\n",
        " - data batching\n",
        " (........................................) => \n",
        " (....)(....)(....)(....)(....)(....)(....)(....)(....)(....)\n",
        "  - 학습단계 : Batch(X,Y) Stochastic Gradient Descent 를 하기에는 데이터의 양이 너무 많으므로 batch를 통해 부담이 덜 가게 함\n",
        "  - 데이터 배치\n",
        "  1. Full batch : 전체 데이터셋을 하나의 Batch로 봄\n",
        "  2. Mini Batch : 적정 사이즈(m)의 Batch로 묶음 -> $X \\in R^{m*d1}, Y \\in R^{m*d2}$\n",
        " Batch단위로 Training -> SGD, 모든 Batch 학습 후 다시 학습(1회의 단위) -> 1epoch "
      ]
    },
    {
      "cell_type": "markdown",
      "metadata": {
        "id": "nHKUN6oF3_r1"
      },
      "source": [
        "- PyTorch를 이용한 데이터 가공 예시"
      ]
    },
    {
      "cell_type": "code",
      "metadata": {
        "id": "AbnTmZbWuVvI"
      },
      "source": [
        "import torch\n",
        "import numpy as np\n",
        "import matplotlib.pyplot as plt\n",
        "%matplotlib inline"
      ],
      "execution_count": null,
      "outputs": []
    },
    {
      "cell_type": "code",
      "metadata": {
        "colab": {
          "base_uri": "https://localhost:8080/",
          "height": 283
        },
        "id": "fNHw34rM4ZUC",
        "outputId": "d115c963-865d-40ad-a416-2ef5c5ad5ef3"
      },
      "source": [
        "# 우리가 맞출 데이터\n",
        "x = np.random.uniform(-1.2,2,size=(100))\n",
        "y = 0.1*x**3-0.1*x**2+0.1*np.random.uniform(size=(100))\n",
        "plt.plot(x,y,'o')"
      ],
      "execution_count": null,
      "outputs": [
        {
          "output_type": "execute_result",
          "data": {
            "text/plain": [
              "[<matplotlib.lines.Line2D at 0x7f42c7ad7d90>]"
            ]
          },
          "metadata": {},
          "execution_count": 6
        },
        {
          "output_type": "display_data",
          "data": {
            "image/png": "[encoded data removed]",
            "text/plain": [
              "<Figure size 432x288 with 1 Axes>"
            ]
          },
          "metadata": {
            "needs_background": "light"
          }
        }
      ]
    },
    {
      "cell_type": "code",
      "metadata": {
        "colab": {
          "base_uri": "https://localhost:8080/"
        },
        "id": "PEShODRQ43Mv",
        "outputId": "ca957f25-3a9c-4df6-efaa-4a0582d3f2a2"
      },
      "source": [
        "#train_vaildataion_test 분류\n",
        "data = np.concatenate((x.reshape(-1,1),y.reshape (-1,1)),axis=-1) # X(input),Y(target)를 묶음\n",
        "print(data.shape) # 차원0: 데이터개수, 차원1: (x,y) --> (100,2) size\n",
        "np.random.shuffle(data) #데이터를 골고루(임의로) 섞음\n",
        "\n",
        "test_num = int(data.shape[0]*0.1) #data.shape[0] = 100\n",
        "vaild_num = int(data.shape[0]*0.1)\n",
        "train_num = data.shape[0]-test_num-vaild_num\n",
        "\n",
        "train_data = data[:train_num] # 0~79개 : (80,2)\n",
        "vaild_data = data[train_num:train_num+vaild_num] # 80~89 : (10,2)\n",
        "test_data = data[train_num+vaild_num:] # 90~99 : (10,2)"
      ],
      "execution_count": null,
      "outputs": [
        {
          "output_type": "stream",
          "name": "stdout",
          "text": [
            "(100, 2)\n"
          ]
        }
      ]
    },
    {
      "cell_type": "code",
      "metadata": {
        "colab": {
          "base_uri": "https://localhost:8080/",
          "height": 283
        },
        "id": "1oqq3h2GtJEn",
        "outputId": "7ee23631-f16e-434b-fb15-576864e9900f"
      },
      "source": [
        "plt.plot(train_data[:,0],train_data[:,1],'ro')\n",
        "plt.plot(vaild_data[:,0],vaild_data[:,1],'ko')\n",
        "plt.plot(test_data[:,0],test_data[:,1],'go')"
      ],
      "execution_count": null,
      "outputs": [
        {
          "output_type": "execute_result",
          "data": {
            "text/plain": [
              "[<matplotlib.lines.Line2D at 0x7f42c79d6250>]"
            ]
          },
          "metadata": {},
          "execution_count": 9
        },
        {
          "output_type": "display_data",
          "data": {
            "image/png": "[encoded data removed]",
            "text/plain": [
              "<Figure size 432x288 with 1 Axes>"
            ]
          },
          "metadata": {
            "needs_background": "light"
          }
        }
      ]
    },
    {
      "cell_type": "code",
      "metadata": {
        "id": "0ARZlrwM1NQQ"
      },
      "source": [
        "# torch batch \n",
        "class dataset(torch.utils.data.Dataset): # 아무이름이나 해도 됨\n",
        "  def __init__(self,data):\n",
        "    self.data = data\n",
        "    self.x = self.data[:,0].reshape(-1,1)\n",
        "    self.y = self.data[:,1].reshape(-1,1)\n",
        "\n",
        "  def __getitem__(self,idx):  \n",
        "    # (100,2) --> batchsiz = 3 --> idx(0,36,85) : 임의로 세 숫자를 뽑아서 그 순서에 해당하는 데이터를 이용함\n",
        "    return torch.Tensor(self.x[idx]),torch.Tensor(np.array(self.y[idx]))\n",
        "\n",
        "  def __len__(self):\n",
        "    return len(self.data)"
      ],
      "execution_count": null,
      "outputs": []
    },
    {
      "cell_type": "code",
      "metadata": {
        "id": "pc6-k74ABMpk"
      },
      "source": [
        "train_dataset = dataset(train_data) #(80,2)\n",
        "train_loader = torch.utils.data.DataLoader(train_dataset,batch_size=32,shuffle=True,drop_last=False)\n",
        "#80=32+32+16이므로 뒤에 16부분을 버리지않고 가져감 == drop_last=False"
      ],
      "execution_count": null,
      "outputs": []
    },
    {
      "cell_type": "code",
      "metadata": {
        "colab": {
          "base_uri": "https://localhost:8080/"
        },
        "id": "EAW9WdxSDS7W",
        "outputId": "f2949880-f1f9-420a-e470-f2bb858d5ad8"
      },
      "source": [
        "cnt = 0\n",
        "for X,Y in train_loader:\n",
        "  print(X.shape)\n",
        "  print(Y.shape)\n",
        "  cnt += 1\n",
        "  if cnt == 3:\n",
        "    break"
      ],
      "execution_count": null,
      "outputs": [
        {
          "output_type": "stream",
          "name": "stdout",
          "text": [
            "torch.Size([32, 1])\n",
            "torch.Size([32, 1])\n",
            "torch.Size([32, 1])\n",
            "torch.Size([32, 1])\n",
            "torch.Size([16, 1])\n",
            "torch.Size([16, 1])\n"
          ]
        }
      ]
    },
    {
      "cell_type": "code",
      "metadata": {
        "id": "q6_dmSINEr_8"
      },
      "source": [
        ""
      ],
      "execution_count": null,
      "outputs": []
    }
  ]
}