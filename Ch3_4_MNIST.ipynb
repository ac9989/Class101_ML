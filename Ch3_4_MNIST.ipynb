{
  "nbformat": 4,
  "nbformat_minor": 0,
  "metadata": {
    "colab": {
      "name": "Ch3_4_MNIST.ipynb",
      "provenance": []
    },
    "kernelspec": {
      "name": "python3",
      "display_name": "Python 3"
    },
    "language_info": {
      "name": "python"
    }
  },
  "cells": [
    {
      "cell_type": "markdown",
      "source": [
        "#MNIST 데이터\n",
        "\n",
        "##개요\n",
        "- 손글씨 데이터\n",
        "- 손으로 작성된 0~9까지의 숫자 이미지\n",
        "- 이미지 + Label(Y=Target) = 하나의 데이터셋\n",
        "\n",
        "##이미지 속성\n",
        "- 차원 : (가로,세로,색조)=(28,28,1), 픽셀값(밝기에 따라) : 0~255\n",
        "\n",
        "##레이블 정보\n",
        "- 단순 스칼라 : (확률정보이용)-One hot encoding\n",
        "\n",
        "##해결전략\n",
        "1. 이미지, Label 전처리\n",
        "2. Neural network 모델 생성\n",
        "3. Backpropagation 알고리즘 최적화\n",
        "4. Test data 검증\n",
        "\n",
        "# 이미지 전처리과정\n",
        "- 이미지 전처리\n",
        " - 텐서 랭크변환 (28,28,1) -> (28*28) : 784차원 벡터\n",
        " - 이미지 픽셀 정규화 (0 ~ 255) -> (0 ~ 1)\n",
        "\n",
        "- Torch 코드\n",
        " - 랭크변환 X = X.view(-1.784)\n",
        " - 픽셀 정규화 X /= torch.max(X) \n",
        "\n",
        "- 레이블 처리\n",
        " - 원-핫 인코딩(One-hot encording) -> 확률분포도로 변환작업\n",
        "  \n",
        "  ex) MNIST 레이블 : 10개의 숫자를 10개의 사건분포로\n",
        "\n",
        "5 -> One hot encording\n",
        "\n",
        "__X : 0 1 2 3 4 5 6 7 8 9 \n",
        "\n",
        "P(X): 0 0 0 0 0 1 0 0 0 0\n",
        "\n",
        "=> 5 = [0,0,0,0,0,1,0,0,0,0]\n",
        "\n",
        "\n",
        "- 프로세스\n",
        " 1. Neural network 초기 생성\n",
        "\n",
        "   Layer 구성 (784->256->128->10)\n",
        "   \n",
        "   Activation(...........Relu...Relu...Softmax)\n",
        "\n",
        " 2. Loss함수 (KL-divergence)\n",
        "\n",
        "    + Softmax(모든 벡터의 값 0~1),   \n",
        "$ softmax(X) = \\frac{e^{X}}{Σ e^{X}} $\n",
        "\n",
        "\n"
      ],
      "metadata": {
        "id": "5q1rltcU_1hj"
      }
    },
    {
      "cell_type": "code",
      "source": [
        "import torch\n",
        "import torch.nn as nn\n",
        "import torch.nn.functional as F\n",
        "import torch.optim as opt\n",
        "import torchvision.datasets as dataset #torchvision : 이미지인식용\n",
        "import torchvision.transforms as transforms # 가공 + 텐서로 변환\n",
        "\n",
        "import numpy as np\n",
        "import matplotlib.pyplot as plt\n",
        "%matplotlib inline"
      ],
      "metadata": {
        "id": "t13skS-_2I_p"
      },
      "execution_count": 58,
      "outputs": []
    },
    {
      "cell_type": "code",
      "source": [
        "# 데이터 셋 다운로드, 코랩에 있는 데이터들의 상태가 좋지않아 토치비전에서 다운받는다고 함\n",
        "mn_train = dataset.MNIST(root='MNIST_data/',\n",
        "                         train=True,\n",
        "                         transform=transforms.ToTensor(),\n",
        "                         download=True) # MNIST_train -> 60000개 (image,label)\n",
        "\n",
        "mn_test = dataset.MNIST(root='MNIST_data/',\n",
        "                         train=False,\n",
        "                         transform=transforms.ToTensor(),\n",
        "                         download=True) # MNIST_test -> 10000개 (image,label)\n"
      ],
      "metadata": {
        "id": "uhK37HT83dod"
      },
      "execution_count": 59,
      "outputs": []
    },
    {
      "cell_type": "code",
      "source": [
        "#데이터 정보 프린트\n",
        "print(mn_train)\n",
        "print(mn_test)\n",
        "\n",
        "#sample\n",
        "img, label = mn_train[0]\n",
        "plt.imshow(img[0,:,:])\n",
        "print(label)"
      ],
      "metadata": {
        "colab": {
          "base_uri": "https://localhost:8080/",
          "height": 504
        },
        "id": "k_oRrtVF6hDx",
        "outputId": "14d84d71-fb16-4af0-ea4b-2cc9b024065b"
      },
      "execution_count": 60,
      "outputs": [
        {
          "output_type": "stream",
          "name": "stdout",
          "text": [
            "Dataset MNIST\n",
            "    Number of datapoints: 60000\n",
            "    Root location: MNIST_data/\n",
            "    Split: Train\n",
            "    StandardTransform\n",
            "Transform: ToTensor()\n",
            "Dataset MNIST\n",
            "    Number of datapoints: 10000\n",
            "    Root location: MNIST_data/\n",
            "    Split: Test\n",
            "    StandardTransform\n",
            "Transform: ToTensor()\n",
            "5\n"
          ]
        },
        {
          "output_type": "display_data",
          "data": {
            "image/png": "[encoded data removed]",
            "text/plain": [
              "<Figure size 432x288 with 1 Axes>"
            ]
          },
          "metadata": {
            "needs_background": "light"
          }
        }
      ]
    },
    {
      "cell_type": "code",
      "source": [
        "# 상대적으로 쉬운 문제이므로 vaild_dataset은 따로 상정하지 않음?\n",
        "train_loader = torch.utils.data.DataLoader(mn_train,batch_size=32,shuffle=True,drop_last=False)\n",
        "test_loader = torch.utils.data.DataLoader(mn_test,batch_size=32,shuffle=False,drop_last=False)"
      ],
      "metadata": {
        "id": "u1x9u50w691J"
      },
      "execution_count": 61,
      "outputs": []
    },
    {
      "cell_type": "code",
      "source": [
        "# NN 모델만들기\n",
        "class MNIST_full(nn.Module):\n",
        "  def __init__(self):\n",
        "    super(MNIST_full,self).__init__()\n",
        "    self.lin1 = nn.Linear(784,256)\n",
        "    self.lin2 = nn.Linear(256,128)\n",
        "    self.lin3 = nn.Linear(128,10)\n",
        "\n",
        "  def forward(self,x):\n",
        "    x = x.view(-1,784) #(batch,28,28,1)-->(batch,784)\n",
        "    x = F.relu(self.lin1(x))\n",
        "    x = F.relu(self.lin2(x))\n",
        "    x = F.softmax(self.lin3(x),dim=1) \n",
        "    return x "
      ],
      "metadata": {
        "id": "MJm0mtZBPG-W"
      },
      "execution_count": 62,
      "outputs": []
    },
    {
      "cell_type": "code",
      "source": [
        "model = MNIST_full()\n",
        "optimizer = opt.Adam(model.parameters(),lr=0.0001)"
      ],
      "metadata": {
        "id": "nJQlKQZwRX3k"
      },
      "execution_count": 63,
      "outputs": []
    },
    {
      "cell_type": "code",
      "source": [
        "def kl_div(prob1,prob2):\n",
        "  return torch.sum(prob1*torch.log(prob1/prob2+1e-15))"
      ],
      "metadata": {
        "id": "y6V9V2fZRpPo"
      },
      "execution_count": 64,
      "outputs": []
    },
    {
      "cell_type": "code",
      "source": [
        "#train 단계\n",
        "#criterion = nn.CrossEntropyLoss() 어차피 안됨ㅋㅋ, kl_div 경량화된 확률간 거리구하는 공식(유틸?\n",
        "for epoch in range(10):\n",
        "  loss_buffer = []\n",
        "  for x,y in train_loader: # x는 이미지, y는 레이블\n",
        "    optimizer.zero_grad()\n",
        "\n",
        "    y_onehot = torch.zeros((y.shape[0],10))\n",
        "    y_onehot[range(y.shape[0]),y]=1  #__ 이 두줄이 one_hot encording\n",
        "    y_infer = model(x)\n",
        "    #loss = criterion(y_infer,y) 이것도 않됌ㅋㅋ\n",
        "    loss = kl_div(y_onehot,y_infer) # kl_div 확률간 거리 (레이블, 추론)\n",
        "    loss.backward() #grad 획득\n",
        "    optimizer.step() # Gradient desent 수행\n",
        "    loss_buffer.append(loss.item())\n",
        "\n",
        "  print('Epoch: {:d}. Train loss {:f}'.format(epoch,np.mean(loss_buffer)))"
      ],
      "metadata": {
        "colab": {
          "base_uri": "https://localhost:8080/"
        },
        "id": "IQV0ts2uUDO_",
        "outputId": "190c5770-c963-4c3f-b6cd-b5dff1d64da3"
      },
      "execution_count": 65,
      "outputs": [
        {
          "output_type": "stream",
          "name": "stdout",
          "text": [
            "Epoch: 0. Train loss 17.673709\n",
            "Epoch: 1. Train loss 7.996463\n",
            "Epoch: 2. Train loss 6.360030\n",
            "Epoch: 3. Train loss 5.254107\n",
            "Epoch: 4. Train loss 4.418347\n",
            "Epoch: 5. Train loss 3.789400\n",
            "Epoch: 6. Train loss 3.286167\n",
            "Epoch: 7. Train loss 2.873786\n",
            "Epoch: 8. Train loss 2.539206\n",
            "Epoch: 9. Train loss 2.256276\n"
          ]
        }
      ]
    },
    {
      "cell_type": "code",
      "source": [
        "#Test 단계\n",
        "acc=[] #정확도 계산을 위한 버퍼\n",
        "for x,y in test_loader:\n",
        "  # one_hot encording\n",
        "  y_onehot = torch.zeros((len(y),10))\n",
        "  y_onehot[range(len(y)),y] = 1\n",
        "  y_infer = model(x)\n",
        "\n",
        "  #정확도 계산\n",
        "  correct_prediction = torch.argmax(y_infer, 1) == y #argmax(y_infer, 1) == 1에 해당하는 인덱스 출력]\n",
        "  acc.append(correct_prediction.float().mean())\n",
        "\n",
        "print('Test loss {:f}, Accuracy {:f}'.format(np.mean(loss_buffer),np.mean(acc)))"
      ],
      "metadata": {
        "colab": {
          "base_uri": "https://localhost:8080/"
        },
        "id": "KuJzg6ySW_kB",
        "outputId": "e7e33bb8-0185-4d1a-a4cf-ba852d1f98d9"
      },
      "execution_count": 53,
      "outputs": [
        {
          "output_type": "stream",
          "name": "stdout",
          "text": [
            "Test loss 0.646076, Accuracy 0.977736\n"
          ]
        }
      ]
    },
    {
      "cell_type": "code",
      "source": [
        "# 실물샘플\n",
        "img, label=mn_test[0]\n",
        "plt.imshow(img[0,:,:])\n",
        "y_infer = model(img)\n",
        "print('실제 이미지 숫자',label)\n",
        "print('예측 이미지 숫자',torch.argmax(y_infer,1))"
      ],
      "metadata": {
        "colab": {
          "base_uri": "https://localhost:8080/",
          "height": 302
        },
        "id": "MLiICWxdcW9T",
        "outputId": "b0538384-6fc5-419f-aceb-c4373f6e78cd"
      },
      "execution_count": 56,
      "outputs": [
        {
          "output_type": "stream",
          "name": "stdout",
          "text": [
            "실제 이미지 숫자 7\n",
            "예측 이미지 숫자 tensor([7])\n"
          ]
        },
        {
          "output_type": "display_data",
          "data": {
            "image/png": "[encoded data removed]",
            "text/plain": [
              "<Figure size 432x288 with 1 Axes>"
            ]
          },
          "metadata": {
            "needs_background": "light"
          }
        }
      ]
    },
    {
      "cell_type": "code",
      "source": [
        "print(y_infer)"
      ],
      "metadata": {
        "colab": {
          "base_uri": "https://localhost:8080/"
        },
        "id": "4Zk0Z2zqeP-1",
        "outputId": "5cf6da79-abf1-4aa8-ade7-586bb4c124a4"
      },
      "execution_count": 57,
      "outputs": [
        {
          "output_type": "stream",
          "name": "stdout",
          "text": [
            "tensor([[4.4812e-08, 4.2518e-08, 5.1321e-06, 3.6087e-05, 1.8752e-10, 1.9532e-08,\n",
            "         5.0119e-15, 9.9995e-01, 5.9706e-07, 6.1828e-06]],\n",
            "       grad_fn=<SoftmaxBackward0>)\n"
          ]
        }
      ]
    },
    {
      "cell_type": "code",
      "source": [
        "#과제"
      ],
      "metadata": {
        "id": "38WF0NK8ebz4"
      },
      "execution_count": null,
      "outputs": []
    }
  ]
}