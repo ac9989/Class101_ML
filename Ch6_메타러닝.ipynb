{
  "nbformat": 4,
  "nbformat_minor": 0,
  "metadata": {
    "colab": {
      "name": "Ch6_메타러닝.ipynb",
      "provenance": [],
      "collapsed_sections": [],
      "authorship_tag": "ABX9TyPURr/u93Nd/Sjp1m910int",
      "include_colab_link": true
    },
    "kernelspec": {
      "name": "python3",
      "display_name": "Python 3"
    },
    "language_info": {
      "name": "python"
    }
  },
  "cells": [
    {
      "cell_type": "markdown",
      "metadata": {
        "id": "view-in-github",
        "colab_type": "text"
      },
      "source": [
        "<a href=\"https://colab.research.google.com/github/ac9989/Class101_ML/blob/main/Ch6_%EB%A9%94%ED%83%80%EB%9F%AC%EB%8B%9D.ipynb\" target=\"_parent\"><img src=\"https://colab.research.google.com/assets/colab-badge.svg\" alt=\"Open In Colab\"/></a>"
      ]
    },
    {
      "cell_type": "markdown",
      "source": [
        "#지금까지 머신러닝 문제\n",
        "###머신러닝 문재 해결 흐름도\n",
        "1. 훈련용 데이터(입력, 레이블) 준비\n",
        "2. 모델 설정(딥러닝 구조 설정, 뉴런 네트워크 등등)\n",
        "3. 훈련용 데이터를 통한 모델 최적화\n",
        "4. 운영 입력데이터를 모델에 적용\n",
        "\n",
        "##이 방식에서 개선시킬 점은 무엇일까?\n",
        "###매번 새로운 문제를 만날 때 마다 **새로운 모델 생성 및 학습**\n",
        "\n",
        "예시) \n",
        "- 사람: 자전거 지식 : θ, 오토바이 지식 : θ'\n",
        "\n",
        "즉 지식 전이간 별도의 정보 프로세스가 크게 필요하지않음\n",
        "\n",
        "- 인공지능 : 자전거 지식 : θ, 오토바이 지식 δ\n",
        "\n",
        "즉 지식 전이간 추가적인 정보 프로세스가 필요함\n",
        "\n",
        "===> 인간의 유연함, 학습을 학습함 = 메타러닝\n",
        "\n",
        "\n",
        "#메타러닝 : Model Agnostic Meta-learning\n",
        "###용어 정리\n",
        "T(task) : 새롭게 마주하는 문제(자전거타기, 오토바이타기, 승마)\n",
        "\n",
        "K(shot) : T에서 추출한 데이터 수, 잘 학습될수록 K의 값은 작아짐 (자전거, 오토바이, 말을 탄 횟수)\n",
        "\n",
        "θ : 지식(NN파라미터)\n",
        "\n",
        "$f(θ)$ : 지식을 가지고 얻은 문제의 결과\n",
        "\n",
        "###알고리즘\n",
        "1: randomly initialize θ\n",
        "\n",
        "2: while not done do\n",
        "\n",
        "3: ..Sample batch of tasks $ \\mathcal{T}_i \\sim p(\\mathcal{T}) $\n",
        "\n",
        "4: ..for all $\\mathcal{T}_i$ do\n",
        "\n",
        "5: ....Evaluate $∇_\\theta \\mathcal{L} (f_θ) $ with respect to $K$ example\n",
        "\n",
        "6: ....Compute adapted parameters with gradient descent: $ θ` _{i} = θ - α∇_{θ} \\mathcal{L} _{\\mathcal{T}_{i}}(f_θ)$\n",
        "\n",
        "7: ..end for\n",
        "\n",
        "8: ..Update $θ ← θ - β∇_{θ} ∑_{\\mathcal{T}_i \\sim p(\\mathcal{T})}\\mathcal{L}_{\\mathcal{T}_i} (f_{θ`_{i}})$\n",
        "\n",
        "9: end while\n",
        "\n",
        "###알고리즘 해석\n",
        "1. Task 추출(3번줄)\n",
        "2. Task로 부터 K개의 샘플 데이터 추출(5번줄)\n",
        "3. 기존 지식과 차이를 이용해 새로운 지식 확보(6번줄) => inner loop(Task training)\n",
        "4. 추출한 Task 모두에 대해 1~3번 과정을 반복하고 얻은 지식으로 기존 지식을 업데이트 : 메타러닝 (8번줄) => outer loop(Meta training)"
      ],
      "metadata": {
        "id": "7MTjJmP3JJF7"
      }
    },
    {
      "cell_type": "markdown",
      "source": [
        "#MAML 사인파 생성 예시"
      ],
      "metadata": {
        "id": "c6kLHtjXmFq9"
      }
    },
    {
      "cell_type": "markdown",
      "source": [
        "- 추가 라이브러리 higher 설치(메타러닝을 위해 페이스북에서 만든 라이브러리) -> inner loop"
      ],
      "metadata": {
        "id": "nqQgvfxMmjf_"
      }
    },
    {
      "cell_type": "code",
      "source": [
        "!pip install higher"
      ],
      "metadata": {
        "colab": {
          "base_uri": "https://localhost:8080/"
        },
        "id": "Lni-zx6qmR2y",
        "outputId": "bd1329d6-f84a-4b3f-99f1-aa445cccfdc8"
      },
      "execution_count": 4,
      "outputs": [
        {
          "output_type": "stream",
          "name": "stdout",
          "text": [
            "Collecting higher\n",
            "  Downloading higher-0.2.1-py3-none-any.whl (27 kB)\n",
            "Requirement already satisfied: torch in /usr/local/lib/python3.7/dist-packages (from higher) (1.10.0+cu111)\n",
            "Requirement already satisfied: typing-extensions in /usr/local/lib/python3.7/dist-packages (from torch->higher) (3.10.0.2)\n",
            "Installing collected packages: higher\n",
            "Successfully installed higher-0.2.1\n"
          ]
        }
      ]
    },
    {
      "cell_type": "markdown",
      "source": [
        "- 라이브러리 호출"
      ],
      "metadata": {
        "id": "l1f58I9rmcfP"
      }
    },
    {
      "cell_type": "code",
      "source": [
        "import torch\n",
        "import torch.nn as nn\n",
        "import torch.nn.functional as F\n",
        "import torch.optim as optim\n",
        "import higher\n",
        "import matplotlib.pyplot as plt\n",
        "%matplotlib inline\n",
        "import numpy as np"
      ],
      "metadata": {
        "id": "cmfNonoCmWUV"
      },
      "execution_count": 5,
      "outputs": []
    },
    {
      "cell_type": "code",
      "source": [
        "device = torch.device('cuda:0' if torch.cuda.is_available() else 'cpu')"
      ],
      "metadata": {
        "id": "O5Mb3CqcnWaV"
      },
      "execution_count": 6,
      "outputs": []
    },
    {
      "cell_type": "markdown",
      "source": [
        "- 임의의 사인파 생성함수 $f(x)=A sin(x+b)$\n",
        "  - paper에 나와있는 방식\n",
        "  - $x$의 범위 : $-5 ≤ x ≤ 5 $ \n",
        "  - $A$의 범위 : $0.1 ≤ A ≤ 5 $ \n",
        "  - $b$의 범위 : $0 ≤ b ≤ π $ "
      ],
      "metadata": {
        "id": "ScPwgAu3nnnm"
      }
    },
    {
      "cell_type": "code",
      "source": [
        "def gen_sinusoid(x):\n",
        "  a = np.random.uniform(0.1,5)\n",
        "  b = np.random.uniform(0,np.pi)\n",
        "  return a*np.sin(x+b)"
      ],
      "metadata": {
        "id": "QrL1GoE_nj6U"
      },
      "execution_count": 7,
      "outputs": []
    },
    {
      "cell_type": "markdown",
      "source": [
        "#임의의 사인파 생성\n",
        " - Regression 문제 해결"
      ],
      "metadata": {
        "id": "alT3bgLvrEZQ"
      }
    },
    {
      "cell_type": "code",
      "source": [
        "x = np.linspace(-5,5,100)\n",
        "f_x = gen_sinusoid(x)\n",
        "plt.plot(x,f_x)\n",
        "plt.axis([-5,5,-5,5])\n",
        "plt.grid()"
      ],
      "metadata": {
        "colab": {
          "base_uri": "https://localhost:8080/",
          "height": 265
        },
        "id": "jbwvCwCcrKSG",
        "outputId": "fa9dddab-b459-458c-e8cd-e8e6aee966e2"
      },
      "execution_count": 8,
      "outputs": [
        {
          "output_type": "display_data",
          "data": {
            "image/png": "[encoded data removed]",
            "text/plain": [
              "<Figure size 432x288 with 1 Axes>"
            ]
          },
          "metadata": {
            "needs_background": "light"
          }
        }
      ]
    },
    {
      "cell_type": "code",
      "source": [
        "#간단한 neural network - 위 sine 그래프 맞추기\n",
        "#입력(1) > 히든1(45) > 히든2(45) > 출력(1)\n",
        "class simple_sinusoid(nn.Module):\n",
        "  def __init__(self):\n",
        "    super(simple_sinusoid,self).__init__()\n",
        "    self.lin1 = nn.Linear(1,45)\n",
        "    self.lin2 = nn.Linear(45,45)\n",
        "    self.lin3 = nn.Linear(45,1)\n",
        "  def forward(self,x):\n",
        "    x = F.elu(self.lin1(x))\n",
        "    x = F.elu(self.lin2(x))\n",
        "    x = self.lin3(x)\n",
        "    return x"
      ],
      "metadata": {
        "id": "Rl6b0WllrjyS"
      },
      "execution_count": 9,
      "outputs": []
    },
    {
      "cell_type": "code",
      "source": [
        "class dataset(torch.utils.data.Dataset):\n",
        "  def __init__(self,x,y):\n",
        "    self.x = x\n",
        "    self.y = y\n",
        "  def __getitem__(self,idx):\n",
        "    return torch.Tensor(self.x).view(-1,1).to(device), torch.Tensor(self.y).view(-1,1).to(device)\n",
        "  def __len__(self):\n",
        "    return len(self.x)\n",
        "\n",
        "# x: 입력, f_x(y): 레이블\n",
        "data = np.concatenate((x.reshape(-1,1),f_x.reshape(-1,1)),axis=1)\n",
        "np.random.shuffle(data)\n",
        "train_data = data[:int(0.8*len(data))]\n",
        "val_data = data[int(0.8*len(data)):]\n",
        "\n",
        "train_data = dataset(train_data[:,0],train_data[:,1])\n",
        "train_loader = torch.utils.data.DataLoader(train_data,batch_size=32,shuffle=True,drop_last=False)\n",
        "val_data = dataset(train_data[:,0],train_data[:,1])\n",
        "val_loader = torch.utils.data.DataLoader(train_data,batch_size=32,shuffle=True,drop_last=False)"
      ],
      "metadata": {
        "id": "AywA55nps1e2"
      },
      "execution_count": 10,
      "outputs": []
    },
    {
      "cell_type": "code",
      "source": [
        "model = simple_sinusoid().to(device)\n",
        "opt = optim.Adam(model.parameters(),lr=0.01)\n",
        "\n",
        "for epoch in range(100):\n",
        "  model.train()\n",
        "  t_l = 0\n",
        "  for x_t,f_t in train_loader:\n",
        "    opt.zero_grad()\n",
        "    f_pred = model(x_t)\n",
        "    loss = torch.mean((f_pred-f_t)**2)\n",
        "    loss.backward()\n",
        "    opt.step()\n",
        "    t_l += loss.item()\n",
        "  t_l /= len(train_loader)\n",
        "\n",
        "  model.eval()\n",
        "  v_l = 0\n",
        "  for x_v,f_v in val_loader:\n",
        "    f_pred = model(x_v)\n",
        "    loss = torch.mean((f_pred-f_v)**2)\n",
        "    v_l += loss.item()\n",
        "  v_l /= len(val_loader)\n",
        "\n",
        "  if epoch % 10 == 0:\n",
        "    print('Epoch: {:d}, Train_Loss: {:.3f}, Vaildation Loss: {:.3f}'.format(epoch,t_l,v_l))"
      ],
      "metadata": {
        "colab": {
          "base_uri": "https://localhost:8080/"
        },
        "id": "AVQZhvQex1s1",
        "outputId": "c9205d36-1ac9-4993-9821-7b29cd3e2d1d"
      },
      "execution_count": 11,
      "outputs": [
        {
          "output_type": "stream",
          "name": "stdout",
          "text": [
            "Epoch: 0, Train_Loss: 1.115, Vaildation Loss: 0.849\n",
            "Epoch: 10, Train_Loss: 0.142, Vaildation Loss: 0.130\n",
            "Epoch: 20, Train_Loss: 0.012, Vaildation Loss: 0.010\n",
            "Epoch: 30, Train_Loss: 0.002, Vaildation Loss: 0.002\n",
            "Epoch: 40, Train_Loss: 0.004, Vaildation Loss: 0.001\n",
            "Epoch: 50, Train_Loss: 0.001, Vaildation Loss: 0.001\n",
            "Epoch: 60, Train_Loss: 0.000, Vaildation Loss: 0.000\n",
            "Epoch: 70, Train_Loss: 0.002, Vaildation Loss: 0.006\n",
            "Epoch: 80, Train_Loss: 0.001, Vaildation Loss: 0.001\n",
            "Epoch: 90, Train_Loss: 0.000, Vaildation Loss: 0.000\n"
          ]
        }
      ]
    },
    {
      "cell_type": "code",
      "source": [
        "torch.save(model,'simple_sinusoid.pth')"
      ],
      "metadata": {
        "id": "2pT-oOAb1XND"
      },
      "execution_count": 12,
      "outputs": []
    },
    {
      "cell_type": "markdown",
      "source": [
        "- 결과확인"
      ],
      "metadata": {
        "id": "x2mIPhOd2Hq0"
      }
    },
    {
      "cell_type": "code",
      "source": [
        "x_in = torch.Tensor(x).view(-1,1).to(device)\n",
        "f_pred = model(x_in) #예측값\n",
        "plt.plot(x,f_x,label='True sinusoid')\n",
        "plt.plot(x,f_pred.cpu().detach().numpy(),'r--',label='Inference sinusoid')\n",
        "plt.grid()\n",
        "plt.legend()"
      ],
      "metadata": {
        "colab": {
          "base_uri": "https://localhost:8080/",
          "height": 283
        },
        "id": "h382WS8k2But",
        "outputId": "d74b4043-0afb-4b05-a8a6-d74a7430ab25"
      },
      "execution_count": 13,
      "outputs": [
        {
          "output_type": "execute_result",
          "data": {
            "text/plain": [
              "<matplotlib.legend.Legend at 0x7fa1941c18d0>"
            ]
          },
          "metadata": {},
          "execution_count": 13
        },
        {
          "output_type": "display_data",
          "data": {
            "image/png": "[encoded data removed]",
            "text/plain": [
              "<Figure size 432x288 with 1 Axes>"
            ]
          },
          "metadata": {
            "needs_background": "light"
          }
        }
      ]
    },
    {
      "cell_type": "markdown",
      "source": [
        "- 만약 새로운 사인파를 만나게 된다면?\n",
        " - 거기에 5개의 포인트 (x,y)만 있다면???????"
      ],
      "metadata": {
        "id": "zTXsbp7m3bn_"
      }
    },
    {
      "cell_type": "code",
      "source": [
        "f_new = gen_sinusoid(x) #새로운 임의의 함수\n",
        "idx = np.random.choice(np.arange(len(x)),5) # 5포인트 임의 추출\n",
        "x_shot = x[idx]\n",
        "f_new_shot = f_new[idx]\n",
        "plt.plot(x,f_new,'-',label='New sinusoid')\n",
        "plt.plot(x_shot,f_new_shot,'ro',label='Shot point')\n",
        "plt.grid()\n",
        "plt.axis([-5,5,-5,5])\n",
        "plt.legend()"
      ],
      "metadata": {
        "colab": {
          "base_uri": "https://localhost:8080/",
          "height": 283
        },
        "id": "c4sIpJAG22en",
        "outputId": "1e870479-c09a-469c-b841-dbeeabd6f5ef"
      },
      "execution_count": 14,
      "outputs": [
        {
          "output_type": "execute_result",
          "data": {
            "text/plain": [
              "<matplotlib.legend.Legend at 0x7fa194157e50>"
            ]
          },
          "metadata": {},
          "execution_count": 14
        },
        {
          "output_type": "display_data",
          "data": {
            "image/png": "[encoded data removed]",
            "text/plain": [
              "<Figure size 432x288 with 1 Axes>"
            ]
          },
          "metadata": {
            "needs_background": "light"
          }
        }
      ]
    },
    {
      "cell_type": "markdown",
      "source": [
        "5번의 학습횟수로 기존지식을 통해 얼마나 잘 맞추는지 평가해봅시다"
      ],
      "metadata": {
        "id": "oUSsxb2M40is"
      }
    },
    {
      "cell_type": "code",
      "source": [
        "transfer_epoch = 5\n",
        "for e in range(transfer_epoch):\n",
        "  opt.zero_grad()\n",
        "  X = torch.Tensor(x_shot).view(-1,1).to(device) # (x,y) --> 5쌍(K) 에 대한 정보로 5회(epoch) 학습\n",
        "  Y = torch.Tensor(f_new_shot).view(-1,1).to(device)\n",
        "  Y_pred = model(X)\n",
        "  loss = torch.mean((Y-Y_pred)**2)\n",
        "  loss.backward()\n",
        "  opt.step()\n",
        "\n",
        "plt.plot(x,f_new,'-',label='New sinusoid')\n",
        "plt.plot(x_shot,f_new_shot,'ro',label='Shot point')\n",
        "plt.plot(x,model(torch.Tensor(x).view(-1,1).to(device)).detach().cpu().numpy(),'g--',label='Inference result')\n",
        "plt.title('Fine tuning using 5shot point - No meta learning')\n",
        "plt.grid()\n",
        "plt.legend()"
      ],
      "metadata": {
        "colab": {
          "base_uri": "https://localhost:8080/",
          "height": 299
        },
        "id": "u2minKij47xW",
        "outputId": "a3b49ef9-869f-4abc-b79c-f99ce3042024"
      },
      "execution_count": 15,
      "outputs": [
        {
          "output_type": "execute_result",
          "data": {
            "text/plain": [
              "<matplotlib.legend.Legend at 0x7fa1940c9e10>"
            ]
          },
          "metadata": {},
          "execution_count": 15
        },
        {
          "output_type": "display_data",
          "data": {
            "image/png": "[encoded data removed]",
            "text/plain": [
              "<Figure size 432x288 with 1 Axes>"
            ]
          },
          "metadata": {
            "needs_background": "light"
          }
        }
      ]
    },
    {
      "cell_type": "markdown",
      "source": [
        "- Meta-learning with Higher library\n",
        "\n",
        "Higher 라이브러리를 통해서 쉽게 Meta-learning을 구현해봅시다.\n",
        "\n",
        "Higher 라이브러리 --> inner loop를 쉽게 해결할 수 있도록 구현된 라이브러리"
      ],
      "metadata": {
        "id": "6HqMKdxnDfHw"
      }
    },
    {
      "cell_type": "code",
      "source": [
        "num_meta_train = 1000 #메타학습횟수\n",
        "num_inner_loop = 5 #새로운 sin을 만날때마다 5회씩 학습\n",
        "task_batch = 32\n",
        "num_shot = 5\n",
        "inner_lr = 5e-03 #학습률\n",
        "outer_lr = 5e-03 #학습률"
      ],
      "metadata": {
        "id": "2xJ99jDT-abB"
      },
      "execution_count": 16,
      "outputs": []
    },
    {
      "cell_type": "code",
      "source": [
        "meta_model = simple_sinusoid().to(device)\n",
        "meta_opt = optim.Adam(meta_model.parameters(),lr=outer_lr)\n",
        "\n",
        "for epoch in range(num_meta_train):\n",
        "  meta_opt.zero_grad()\n",
        "  inner_opt = optim.Adam(meta_model.parameters(),lr=inner_lr)\n",
        "\n",
        "  batch_loss = []\n",
        "  for task in range(task_batch):  #32개의 임의의 사인파 추출\n",
        "    idx = np.random.choice(np.arange(len(x)),num_shot)\n",
        "    f_x = gen_sinusoid(x)\n",
        "    x_shot,y_shot = x[idx].reshape(-1,1),f_x[idx].reshape(-1,1)\n",
        "\n",
        "    train_x = torch.Tensor(x_shot).to(device) #5개\n",
        "    train_y = torch.Tensor(y_shot).to(device) #5개\n",
        "    vaild_x = torch.Tensor(x.reshape(-1,1)).to(device) # 1000개\n",
        "    vaild_y = torch.Tensor(f_x.reshape(-1,1)).to(device) # 1000개\n",
        "\n",
        "    with higher.innerloop_ctx(meta_model,inner_opt,copy_initial_weights=False) as (fnet,diffopt):\n",
        "      # inner training (5회 반복)\n",
        "      for _ in range(num_inner_loop):\n",
        "        y_infer = fnet(train_x)\n",
        "        y = train_y\n",
        "        inner_loss = torch.mean((y_infer-y)**2)\n",
        "        diffopt.step(inner_loss)\n",
        "\n",
        "      # outer training\n",
        "      y_infer = fnet(vaild_x)\n",
        "      y = vaild_y\n",
        "      meta_loss = torch.mean((y_infer-y)**2)\n",
        "      batch_loss.append(meta_loss.item())\n",
        "      meta_loss.backward()\n",
        "  meta_opt.step()  # outer loop == meta-learning\n",
        "\n",
        "  if epoch % 100 == 0:\n",
        "    print('Epoch: {:d}, Validation task loss: {:.4f}'.format(epoch,sum(batch_loss)/task_batch))"
      ],
      "metadata": {
        "colab": {
          "base_uri": "https://localhost:8080/"
        },
        "id": "Zj7-p877EPqx",
        "outputId": "0fcbb2db-5e1f-4daa-9a00-5c58293d63e9"
      },
      "execution_count": 19,
      "outputs": [
        {
          "output_type": "stream",
          "name": "stdout",
          "text": [
            "Epoch: 0, Validation task loss: 5.7970\n",
            "Epoch: 100, Validation task loss: 1.5954\n",
            "Epoch: 200, Validation task loss: 1.3331\n",
            "Epoch: 300, Validation task loss: 1.9068\n",
            "Epoch: 400, Validation task loss: 1.6063\n",
            "Epoch: 500, Validation task loss: 1.1177\n",
            "Epoch: 600, Validation task loss: 0.8969\n",
            "Epoch: 700, Validation task loss: 1.3438\n",
            "Epoch: 800, Validation task loss: 0.6980\n",
            "Epoch: 900, Validation task loss: 1.0565\n"
          ]
        }
      ]
    },
    {
      "cell_type": "code",
      "source": [
        "torch.save(meta_model,'/meta_model.pth')"
      ],
      "metadata": {
        "id": "7GxIvrtMGGZ5"
      },
      "execution_count": 20,
      "outputs": []
    },
    {
      "cell_type": "markdown",
      "source": [
        "- 똑같이 검증을 해봅시다\n",
        " 1. 사인파에서 임의의 5개 포인트(x,y)를 추출한다\n",
        " 2. Meta-learning이 끝났으니 Task learning(inner loop)를 이용하여 문제해결"
      ],
      "metadata": {
        "id": "iiIT1PN6GEz3"
      }
    },
    {
      "cell_type": "code",
      "source": [
        "f_x = gen_sinusoid(x) # 임의의 다섯개의 사인파를 만들고\n",
        "idx = np.random.choice(np.arange(len(x)),num_shot)\n",
        "x_shot,y_shot = x[idx].reshape(-1,1),f_x[idx].reshape(-1,1) #5개를 추출한다\n",
        "\n",
        "train_x = torch.Tensor(x_shot).to(device) #5개\n",
        "train_y = torch.Tensor(y_shot).to(device) #5개\n",
        "valid_x = torch.Tensor(x.reshape(-1,1)).to(device) # 1000개\n",
        "valid_y = torch.Tensor(f_x.reshape(-1,1)).to(device) # 1000개\n",
        "\n",
        "\n",
        "#여기부터\n",
        "\n",
        "with higher.innerloop_ctx(meta_model,inner_opt,copy_initial_weights=False) as (fnet,diffopt):\n",
        "  #inner training\n",
        "  for _ in range(num_inner_loop):\n",
        "    y_infer = fnet(train_x)\n",
        "    y = train_y\n",
        "    inner_loss = torch.mean((y_infer-y)**2)\n",
        "    diffopt.step(inner_loss)\n",
        "\n",
        "\n",
        "#여기까지 task learning\n",
        "\n",
        "\n",
        "  y_infer = fnet(valid_x)\n",
        "\n",
        "y = valid_y.detach().cpu().numpy()\n",
        "\n",
        "\n",
        "plt.plot(x_shot,y_shot,'ro',label='Shot point')\n",
        "plt.plot(x,f_x,'b--',label='Target sinusoid')\n",
        "# Vaildation (x,y)\n",
        "val_x = vaild_x.detach().cpu().numpy()\n",
        "val_y = y_infer.detach().cpu().numpy()\n",
        "plt.plot(val_x,val_y,'k-',label='Inference sinusoid')\n",
        "plt.grid()\n",
        "plt.legend()"
      ],
      "metadata": {
        "colab": {
          "base_uri": "https://localhost:8080/",
          "height": 283
        },
        "id": "9id0S48jG-w2",
        "outputId": "8b27b5e2-1857-4970-c0b3-c5273ea83263"
      },
      "execution_count": 32,
      "outputs": [
        {
          "output_type": "execute_result",
          "data": {
            "text/plain": [
              "<matplotlib.legend.Legend at 0x7fa1938015d0>"
            ]
          },
          "metadata": {},
          "execution_count": 32
        },
        {
          "output_type": "display_data",
          "data": {
            "image/png": "[encoded data removed]",
            "text/plain": [
              "<Figure size 432x288 with 1 Axes>"
            ]
          },
          "metadata": {
            "needs_background": "light"
          }
        }
      ]
    },
    {
      "cell_type": "code",
      "source": [
        ""
      ],
      "metadata": {
        "id": "GhwcrmQ8QNl1"
      },
      "execution_count": null,
      "outputs": []
    }
  ]
}