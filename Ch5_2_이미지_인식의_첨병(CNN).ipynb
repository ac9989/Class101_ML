{
  "nbformat": 4,
  "nbformat_minor": 0,
  "metadata": {
    "colab": {
      "name": "Ch5_2_이미지_인식의_첨병(CNN).ipynb",
      "provenance": [],
      "collapsed_sections": [],
      "authorship_tag": "ABX9TyN1flOZag+PSYj8tGWsc19w",
      "include_colab_link": true
    },
    "kernelspec": {
      "name": "python3",
      "display_name": "Python 3"
    },
    "language_info": {
      "name": "python"
    }
  },
  "cells": [
    {
      "cell_type": "markdown",
      "metadata": {
        "id": "view-in-github",
        "colab_type": "text"
      },
      "source": [
        "<a href=\"https://colab.research.google.com/github/ac9989/Class101_ML/blob/main/Ch5_2_%EC%9D%B4%EB%AF%B8%EC%A7%80_%EC%9D%B8%EC%8B%9D%EC%9D%98_%EC%B2%A8%EB%B3%91(CNN).ipynb\" target=\"_parent\"><img src=\"https://colab.research.google.com/assets/colab-badge.svg\" alt=\"Open In Colab\"/></a>"
      ]
    },
    {
      "cell_type": "markdown",
      "source": [
        "CNN : Convolution Neural Network, 지난 시간 행렬(커널)의 연산으로 인식하는 방법을 Convolution연산 이라고 함\n",
        "##Convolution연산 : 입력텐서 X 커널 = 출력텐서\n",
        "차원분석(흑백)(가로, 세로, 채널) : 입력텐서(n,n,1), 커널(3,3,1), 출력텐서(n-2,n-2,1)\n",
        "\n",
        "차원분석(컬러)(가로, 세로, 채널) : 입력텐서(n,n,3), 커널(3,3,3), 출력텐서(n-2, n-2,1) (?)\n",
        "\n",
        "입력텐서와 커널의 채널은 같다(K or RGB). 이 때 컬러의 경우 입력과 커널의 채널은 3인데 출력텐서의 채널은 1이다(= 흑백이다).\n",
        "\n",
        "출력텐서의 채널은 곱해지는 커널의 개수와 같으므로\n",
        "\n",
        "차원분석(컬러)(가로, 세로, 채널) : 입력텐서(n,n,3), 커널(3,3,3)*2, 출력텐서(n-2, n-2,2)\n",
        "\n",
        "___\n",
        "###Notation\n",
        "$n_{in,x}$: 입력텐서 가로, $n_{out,x}$: 출력텐서 가로\n",
        "\n",
        "$n_{in,y}$: 입력텐서 세로, $n_{out,y}$: 출력텐서 세로\n",
        "\n",
        "$n_{in,c}$: 입력텐서 채널, $n_{out,c}$: 출력텐서 채널\n",
        "\n",
        "$f_{x}$: 커널 가로\n",
        "\n",
        "$f_{y}$: 커널 세로\n",
        "\n",
        "$ \\#f $: 커널 개수(커널의 태널은 입력텐서와 동일)\n",
        "\n",
        "(중요!)Convolution network 텐서 관계식\n",
        "\n",
        "$n_{out,x} = n_{in,x} - f_{x} +1$\n",
        "\n",
        "$n_{out,y} = n_{in,y} - f_{y} +1$\n",
        "\n",
        "$n_{out,c} = \\#f $\n",
        "\n",
        "###stride : Convolution 연산시 건너뛰는 정도\n",
        "원래 한칸씩 옆으로 옮겨가며 곱하던거를 n칸씩 건너뛰어가며 연산함\n",
        "\n",
        "ex) s=2\n",
        "\n",
        "$n_{out,x} = Rounds( \\frac{n_{in,x} - f_{x}}{2(=s)}) + 1$\n",
        "\n",
        "Rounds = 소수점 버림\n",
        "###(zero)pedding : 입력텐서의 가장자리 확장\n",
        "입력텐서의 둘레를 0으로 p줄씩 덧붙힘\n",
        "\n",
        "ex) s=2, p=1\n",
        "\n",
        "$n_{out,x} = Rounds( \\frac{n_{in,x} - f_{x}+2*1(=p)}{2(=s)}) + 1$\n",
        "\n",
        "###pooling: 별도의 학습없이 해당텐서 사이즈 축소(2X2 사이즈씩 나눠서 한 칸으로 만듦)\n",
        "필요정보:($f_x$,$f_y$),s -> (2,2),2\n",
        "\n",
        "Max_pooling (보통 많이 씀): pooling공간 텐서 중 최댓값만 선택\n",
        "\n",
        "Average_pooling: pooling공간 텐서 중 평균값 선택\n",
        "\n",
        "$n_{out,x} = Rounds( \\frac{n_{in,x} - f_{x}}{s})+1 $, 즉 $n_{out}$은 $n_ {in}$의 절반\n",
        "\n",
        "###input(image) ------> CNN -------> Flatten(all tensors) ------> output(softmax)\n",
        "\n",
        "CNN과정에선 channal은 늘고 width,height는 줄어듦\n",
        "\n",
        "Flatten단계에서는 앞의 모든 숫자 정보를 모아 1차원 벡터로 바꿈\n",
        "\n",
        "1차원 이기에 그냥 Neural Network로 만들 수 있음"
      ],
      "metadata": {
        "id": "Uk4z7H1a8l5G"
      }
    },
    {
      "cell_type": "markdown",
      "source": [
        "##nn.Conv2d : Torch 2-dimencion Convolution 연산\n",
        "입력 변수 상세 : nn.Conv2d(in_channel, out_channel, kernel_size, stride)\n",
        "\n",
        "    ex)\n",
        "    X = torch.randn((batch,3,5,5)) #채널, 사이즈 순으로 써야함!!!\n",
        "    Conv1 = nn.Conv2d(3,2,3,1)  #kernel_size = (m,n)이면 (3,2,(m,n),1)\n",
        "    X = Conv1(X)  #X.shape == (batch,2,3,3)\n",
        "\n",
        "##nn.Maxpool2d (& AvgPool2d) : batch, 채널고정,(가로,세로)변환\n",
        "입력 변수 상세 : nn.Maxpool2d(kernel_size, stride)\n",
        "\n",
        "    ex)\n",
        "    X = torch.randn((batch(=1),channel(=1),4,4))\n",
        "    Conv1 = nn.Conv2d(2,2)  \n",
        "    X = Pool(X)  #X.shape == (batch(=1),channel(=1),2,2)\n",
        "\n",
        "##torchvision.model : 주로 image classification을 목적으로 한 유명 신경망 클래스\n",
        "현재까지 최고의 성능(SOTA)을 내는 Architecture 및  parameter를 제공\n",
        "\n",
        "Tutrial : Model = torchvision.model.\"모델명\"(pretrained=Ture)\n",
        "\n",
        "(pretrained=Ture): 미리 학습되어있는 파라미터\n",
        "\n",
        "그대로도 Classification 가능 + Parameter를 그대로 가지고와서 fine-tuning(=미리 훈련된 파라미터를 기반으로 새로운 학습 시작)\n",
        "\n"
      ],
      "metadata": {
        "id": "aZ2x37xZwQu9"
      }
    },
    {
      "cell_type": "code",
      "source": [
        ""
      ],
      "metadata": {
        "id": "hrNUsMChu5_u"
      },
      "execution_count": null,
      "outputs": []
    }
  ]
}