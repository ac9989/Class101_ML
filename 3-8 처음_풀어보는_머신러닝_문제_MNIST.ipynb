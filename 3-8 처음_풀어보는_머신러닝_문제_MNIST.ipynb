{
  "nbformat": 4,
  "nbformat_minor": 0,
  "metadata": {
    "colab": {
      "name": "Ch03_8처음_풀어보는_머신러닝_문제_MNIST.ipynb",
      "private_outputs": true,
      "provenance": []
    },
    "kernelspec": {
      "name": "python3",
      "display_name": "Python 3"
    }
  },
  "cells": [
    {
      "cell_type": "markdown",
      "metadata": {
        "id": "cJrjKHXEeiJz"
      },
      "source": [
        "## MNIST 손글씨 데이터셋 분류"
      ]
    },
    {
      "cell_type": "code",
      "metadata": {
        "id": "AAEEFJi95Qfi"
      },
      "source": [
        "# 라이브러리 호출\r\n",
        "import torch\r\n",
        "import torch.nn as nn\r\n",
        "import torch.nn.functional as F\r\n",
        "import torch.optim as optim\r\n",
        "import torchvision.datasets as dataset\r\n",
        "import torchvision.transforms as transforms\r\n",
        "\r\n",
        "import numpy as np\r\n",
        "import matplotlib.pyplot as plt"
      ],
      "execution_count": null,
      "outputs": []
    },
    {
      "cell_type": "code",
      "metadata": {
        "id": "_s9BJmAqexiw"
      },
      "source": [
        "mnist_train = dataset.MNIST(root='MNIST_data/',\r\n",
        "                          train=True, \r\n",
        "                          transform=transforms.ToTensor(), \r\n",
        "                          download=True)\r\n",
        "\r\n",
        "mnist_test = dataset.MNIST(root='MNIST_data/', \r\n",
        "                         train=False, \r\n",
        "                         transform=transforms.ToTensor(), \r\n",
        "                         download=True)"
      ],
      "execution_count": null,
      "outputs": []
    },
    {
      "cell_type": "code",
      "metadata": {
        "id": "aDloX8AigcWs"
      },
      "source": [
        "print(mnist_train)\r\n",
        "print(mnist_test)\r\n",
        "# sample\r\n",
        "img, label = mnist_train[0]\r\n",
        "plt.imshow(img[0,:,:])\r\n",
        "print(label)"
      ],
      "execution_count": null,
      "outputs": []
    },
    {
      "cell_type": "code",
      "metadata": {
        "id": "5DUH-tZNjblw"
      },
      "source": [
        "# 상대적으로 쉬운 문제이므로 valid_dataset은 따로 상정X\r\n",
        "train_loader = torch.utils.data.DataLoader(mnist_train,batch_size=32,shuffle=True,drop_last=False)\r\n",
        "test_loader = torch.utils.data.DataLoader(mnist_test,batch_size=32,shuffle=False,drop_last=False)"
      ],
      "execution_count": null,
      "outputs": []
    },
    {
      "cell_type": "code",
      "metadata": {
        "id": "xafQv0yMlID-"
      },
      "source": [
        "# Neural network 모델만들기\r\n",
        "class MNIST_full(nn.Module):\r\n",
        "  def __init__(self):\r\n",
        "    super(MNIST_full,self).__init__()\r\n",
        "    self.lin1 = nn.Linear(784,256)\r\n",
        "    self.lin2 = nn.Linear(256,128)\r\n",
        "    self.lin3 = nn.Linear(128,10)\r\n",
        "\r\n",
        "  def forward(self,x):\r\n",
        "    x = x.view(-1,784)\r\n",
        "    x = F.relu(self.lin1(x))\r\n",
        "    x = F.relu(self.lin2(x))\r\n",
        "    x = F.softmax(self.lin3(x),dim=1)\r\n",
        "    return x"
      ],
      "execution_count": null,
      "outputs": []
    },
    {
      "cell_type": "code",
      "metadata": {
        "id": "yptcYonDmXUM"
      },
      "source": [
        "model = MNIST_full()\r\n",
        "optimizer = optim.Adam(model.parameters(),lr=0.0001)"
      ],
      "execution_count": null,
      "outputs": []
    },
    {
      "cell_type": "code",
      "metadata": {
        "id": "shLExfa_mcKb"
      },
      "source": [
        "def kl_div(prob1, prob2):\r\n",
        "  return torch.sum(prob1*torch.log(prob1/prob2+1e-15))"
      ],
      "execution_count": null,
      "outputs": []
    },
    {
      "cell_type": "code",
      "metadata": {
        "id": "g7XcVzjapbvT"
      },
      "source": [
        "def cross(prob1,prob2):\r\n",
        "  return -torch.sum(prob1*torch.log(prob2))\r\n",
        "\r\n",
        "img, label = mnist_train[0]\r\n",
        "y_onehot = torch.zeros(10)\r\n",
        "y_onehot[label]=1\r\n",
        "y_onehot = y_onehot.view(1,-1)\r\n",
        "y_infer = model(img)\r\n",
        "print(y_infer)\r\n",
        "print(cross(y_onehot,y_infer))"
      ],
      "execution_count": null,
      "outputs": []
    },
    {
      "cell_type": "code",
      "metadata": {
        "id": "tiBp8Wawmnvy"
      },
      "source": [
        "# Train 단계\r\n",
        "criterion = nn.CrossEntropyLoss()\r\n",
        "for epoch in range(10):\r\n",
        "  loss_buffer = []\r\n",
        "  for x,y in train_loader:\r\n",
        "    optimizer.zero_grad()    \r\n",
        "    \r\n",
        "    y_onehot = torch.zeros((y.shape[0],10))\r\n",
        "    y_onehot[range(y.shape[0]),y]=1\r\n",
        "    y_infer = model(x)\r\n",
        "    #loss = criterion(y_infer,y)\r\n",
        "    loss = kl_div(y_onehot,y_infer)\r\n",
        "    loss.backward()\r\n",
        "    optimizer.step()\r\n",
        "    loss_buffer.append(loss.item())\r\n",
        "\r\n",
        "  print('Epoch: {:d}. Train loss {:f}'.format(epoch,np.mean(loss_buffer)))"
      ],
      "execution_count": null,
      "outputs": []
    },
    {
      "cell_type": "code",
      "metadata": {
        "id": "C2MfsjBFoH_p"
      },
      "source": [
        "# Test 단계\r\n",
        "acc = []\r\n",
        "for x,y in test_loader:\r\n",
        "  # one_hot encoding\r\n",
        "  y_onehot = torch.zeros((len(y),10))\r\n",
        "  y_onehot[range(len(y)),y]=1\r\n",
        "  y_infer = model(x)\r\n",
        "\r\n",
        "  correct_prediction = torch.argmax(y_infer, 1) == y\r\n",
        "  acc.append(correct_prediction.float().mean())\r\n",
        "  \r\n",
        "print('Test loss {:f}, Accuracy {:f}'.format(np.mean(loss_buffer),np.mean(acc)))"
      ],
      "execution_count": null,
      "outputs": []
    },
    {
      "cell_type": "code",
      "metadata": {
        "id": "pR8_eWhh0cC8"
      },
      "source": [
        "# 실물샘플\r\n",
        "img,label=mnist_test[0]\r\n",
        "plt.imshow(img[0,:,:])\r\n",
        "y_infer = model(img)\r\n",
        "print('실제 이미지의 숫자',label)\r\n",
        "print('예측 이미지의 숫자',torch.argmax(y_infer,1))"
      ],
      "execution_count": null,
      "outputs": []
    },
    {
      "cell_type": "code",
      "metadata": {
        "id": "9yOjmXMxBOXH"
      },
      "source": [
        ""
      ],
      "execution_count": null,
      "outputs": []
    }
  ]
}