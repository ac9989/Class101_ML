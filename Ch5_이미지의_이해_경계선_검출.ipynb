{
  "nbformat": 4,
  "nbformat_minor": 0,
  "metadata": {
    "colab": {
      "name": "Ch5_이미지의_이해_경계선_검출.ipynb",
      "provenance": []
    },
    "kernelspec": {
      "name": "python3",
      "display_name": "Python 3"
    },
    "language_info": {
      "name": "python"
    }
  },
  "cells": [
    {
      "cell_type": "markdown",
      "source": [
        "#이미지란\n",
        "##이미지 : (Width, Height, Channal)인 랭크가 3인 텐서\n",
        "Width: 이미지의 가로 크기\n",
        "\n",
        "Height: 이미지의 세로 크기\n",
        "\n",
        "Channal: RGB 생고 담당 (컬러3, 흑백1)\n",
        "\n",
        "*픽셀: (가로,세로,채널)텐서의 하나의 원소, 0~255까지 256의 정수로 구성\n",
        "\n",
        "    ex) 1. (1600,0)부분의 검은색, 2. (900,400)부분의 파란색\n",
        "\n",
        "    컬러사진: 1:(1600,0,[R:0,G:0,B:0]),  2:(900,400,[R:0,G:0,B:255])\n",
        "    흑백사진: 1:(1600,0,0),  2:(900,400,100)\n",
        "\n",
        "##이미지 이해 순서\n",
        "이미지를 이해하는 바\n",
        "- 이미지의 기본 요소 : 경계선, 색조(밝기)\n",
        "- 이미지의 고차원 요소: 눈, 코, 입, 머리카락, 도형\n",
        "\n",
        "초기단계 학습요소\n",
        "- 이미지경계선\n",
        "- 색조 및 밝기\n",
        "\n",
        "후기잔계 학습요소\n",
        "- 눈,코,입,머리카락 -> 고차원의 이미지 요소\n",
        "\n",
        "수직선 검출 예제\n",
        "\n",
        "    000111\n",
        "    000111                 0 -3 -3 0\n",
        "    000111      1 0 -1     0 -3 -3 0\n",
        "    000111   X  1 0 -1  =  0 -3 -3 0\n",
        "    000111      1 0 -1     0 -3 -3 0\n",
        "    000111        \n",
        " 6X6행렬을 3X3로 나눠서 2번 행렬을 각각 곱해줌, 0과 -3사이에서 색의 변화가 일어났음을 알 수 있음\n",
        "\n",
        " 인공지능이 배울 것이 커널(위에서 2번 행렬)"
      ],
      "metadata": {
        "id": "1_MeTBP2t88G"
      }
    },
    {
      "cell_type": "code",
      "execution_count": 22,
      "metadata": {
        "id": "w1UJhgDTq7Bn"
      },
      "outputs": [],
      "source": [
        "# image convolution\n",
        "# check out horizontal, vertical, tilting, laplacian\n",
        "\n",
        "import numpy as np\n",
        "import matplotlib.pyplot as plt\n",
        "%matplotlib inline\n",
        "\n",
        "from PIL import Image #image를 다루는 라이브러리\n",
        "\n",
        "def convolution(image,filter,s=1):\n",
        "  image = np.asarray(image)\n",
        "  height = image.shape[0]\n",
        "  width = image.shape[1]\n",
        "  new_height = int((height-filter.shape[0])/s+1)\n",
        "  new_width = int((width-filter.shape[1])/s+1)\n",
        "\n",
        "  new_image = np.zeros((new_height,new_width))\n",
        "  c_h = 0\n",
        "  for h in range(new_height):\n",
        "    c_w = 0\n",
        "    for w in range(new_width):\n",
        "      new_image[h,w]=np.sum(np.multiply(image[c_h:c_h+filter.shape[0],c_w:c_w+filter.shape[1]],filter))\n",
        "      c_w += 1\n",
        "    c_h += 1\n",
        "    return new_image[:]\n",
        "\n",
        "horizon_k = np.zeros((3,3)) #수평선 검출\n",
        "vertical_k = np.zeros((3,3)) #수직선 검출\n",
        "tilt_k = -np.ones((3,3)) #기울어져있는 요소\n",
        "laplacian_k = np.zeros((3,3)) #전반적인 이미지의 윤곽선\n",
        "\n",
        "# horizon filter\n",
        "#  1  1  1\n",
        "#  0  0  0\n",
        "# -1 -1 -1\n",
        "horizon_k[0,:] = 1\n",
        "horizon_k[-1,:] = -1\n",
        "\n",
        "# vertical filter\n",
        "# 1  0 -1\n",
        "# 1  0 -1\n",
        "# 1  0 -1\n",
        "vertical_k[:,0] = 1\n",
        "vertical_k[:,-1] = -1\n",
        "\n",
        "# 45 degree filter\n",
        "# -1 -1  2\n",
        "# -1  2 -1\n",
        "#  2 -1 -1\n",
        "tilt_k[0,-1] = 2\n",
        "tilt_k[1,1] = 2\n",
        "tilt_k[-1,0] = 2\n",
        "\n",
        "# laplacian\n",
        "#  0 -1  0\n",
        "# -1  4 -1\n",
        "#  0 -1  0\n",
        "laplacian_k[0,1] = -1\n",
        "laplacian_k[1,:] = -1\n",
        "laplacian_k[1,1] = 4\n",
        "laplacian_k[2,1] = -1\n"
      ]
    },
    {
      "cell_type": "code",
      "source": [
        "print(horizon_k)\n",
        "print(vertical_k)\n",
        "print(tilt_k)\n",
        "print(laplacian_k)"
      ],
      "metadata": {
        "colab": {
          "base_uri": "https://localhost:8080/"
        },
        "id": "45jfRVsVDUMa",
        "outputId": "57a54185-4207-4a10-b39a-ddc8f8b91324"
      },
      "execution_count": 25,
      "outputs": [
        {
          "output_type": "stream",
          "name": "stdout",
          "text": [
            "[[ 1.  1.  1.]\n",
            " [ 0.  0.  0.]\n",
            " [-1. -1. -1.]]\n",
            "[[ 1.  0. -1.]\n",
            " [ 1.  0. -1.]\n",
            " [ 1.  0. -1.]]\n",
            "[[-1. -1.  2.]\n",
            " [-1.  2. -1.]\n",
            " [ 2. -1. -1.]]\n",
            "[[ 0. -1.  0.]\n",
            " [-1.  4. -1.]\n",
            " [ 0. -1.  0.]]\n"
          ]
        }
      ]
    },
    {
      "cell_type": "code",
      "source": [
        "# ex.1 - horizontal detecting\n",
        "image = 255*np.ones((30,30))\n",
        "image[:15,:] = 0  #위는 어둡고 아래은 밝음\n",
        "plt.imshow(image,cmap='gray')\n",
        "new_image = convolution(image,horizon_k)\n",
        "plt.imshow(new_image,cmap='gray')"
      ],
      "metadata": {
        "colab": {
          "base_uri": "https://localhost:8080/",
          "height": 283
        },
        "id": "1U60uSfLBnvz",
        "outputId": "35dd4c84-f0c1-4c9a-c365-630851bbdc42"
      },
      "execution_count": 28,
      "outputs": [
        {
          "output_type": "execute_result",
          "data": {
            "text/plain": [
              "<matplotlib.image.AxesImage at 0x7f19a1585510>"
            ]
          },
          "metadata": {},
          "execution_count": 28
        },
        {
          "output_type": "display_data",
          "data": {
            "image/png": "[encoded data removed]",
            "text/plain": [
              "<Figure size 432x288 with 1 Axes>"
            ]
          },
          "metadata": {
            "needs_background": "light"
          }
        }
      ]
    },
    {
      "cell_type": "code",
      "source": [
        "# ex.2 - lena test\n",
        "filter_set = [horizon_k,vertical_k,tilt_k,laplacian_k]\n",
        "filter_name = ['horizon_edge','vertical_edge','tilt_edge','laplacian_edge']\n",
        "image = Image.open('./5-1 Lenna.png').convert('L')\n",
        "\n",
        "fig = plt.figure(figsize=(12,12))\n",
        "columns = 4\n",
        "rows = 1\n",
        "\n",
        "for idx,filter in enumerate(filter_set):\n",
        "  print(str(filter_name[idx]))\n",
        "  new_image = convolution(image,filter)\n",
        "  fig.add_subplot(rows,columns,idx+1)\n",
        "  plt.imshow(new_image,cmap='gray')"
      ],
      "metadata": {
        "colab": {
          "base_uri": "https://localhost:8080/",
          "height": 270
        },
        "id": "qK1GD5cACYVM",
        "outputId": "47dd5496-006b-4d03-e801-5bc4dbbd3f3e"
      },
      "execution_count": 29,
      "outputs": [
        {
          "output_type": "stream",
          "name": "stdout",
          "text": [
            "horizon_edge\n",
            "vertical_edge\n",
            "tilt_edge\n",
            "laplacian_edge\n"
          ]
        },
        {
          "output_type": "display_data",
          "data": {
            "image/png": "[encoded data removed]",
            "text/plain": [
              "<Figure size 864x864 with 4 Axes>"
            ]
          },
          "metadata": {
            "needs_background": "light"
          }
        }
      ]
    },
    {
      "cell_type": "code",
      "source": [
        ""
      ],
      "metadata": {
        "id": "4WXUX7oCGjK8"
      },
      "execution_count": null,
      "outputs": []
    }
  ]
}